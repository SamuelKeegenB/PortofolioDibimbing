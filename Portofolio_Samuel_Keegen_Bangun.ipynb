{
  "nbformat": 4,
  "nbformat_minor": 0,
  "metadata": {
    "colab": {
      "name": "Portofolio - Samuel Keegen Bangun.ipynb",
      "provenance": [],
      "collapsed_sections": [
        "Bj0R3SwWrq6Y",
        "M9MTCAp5sAce",
        "O3CbdOjauCGt",
        "9zZn562nvNVZ",
        "8Nt7g4v8u1IO",
        "E1NHzxuaz-TU",
        "Zm5fO5Gbx0Z0",
        "u67Dxgp3ns_b",
        "xqGA8Ek83Owy"
      ]
    },
    "kernelspec": {
      "name": "python3",
      "display_name": "Python 3"
    },
    "language_info": {
      "name": "python"
    }
  },
  "cells": [
    {
      "cell_type": "markdown",
      "source": [
        "**Students Performance in Exams**\n",
        "\n",
        "Goal:\n",
        "*   Untuk memberikan visulilasi dari dataset yang dipakai\n",
        "*   Untuk memberikan makna(EDA) dari dataset yang dipakai\n",
        "*   Untuk membuat model machiene learning dari dataset yang dipakai"
      ],
      "metadata": {
        "id": "LzlD4o89wLPG"
      }
    },
    {
      "cell_type": "markdown",
      "source": [
        "# Libraries Preparation"
      ],
      "metadata": {
        "id": "Bj0R3SwWrq6Y"
      }
    },
    {
      "cell_type": "code",
      "execution_count": null,
      "metadata": {
        "id": "LTL0nRQlrYtF"
      },
      "outputs": [],
      "source": [
        "# Import libraries\n",
        "import numpy as np\n",
        "import pandas as pd\n",
        "import seaborn as sns\n",
        "import matplotlib.pyplot as plt"
      ]
    },
    {
      "cell_type": "code",
      "source": [
        "# Google Mounting\n",
        "from google.colab import drive\n",
        "drive.mount('/content/drive')"
      ],
      "metadata": {
        "colab": {
          "base_uri": "https://localhost:8080/"
        },
        "id": "OneUmuNsr7BH",
        "outputId": "30824abc-2483-4e9e-a194-1fc130551a73"
      },
      "execution_count": null,
      "outputs": [
        {
          "output_type": "stream",
          "name": "stdout",
          "text": [
            "Mounted at /content/drive\n"
          ]
        }
      ]
    },
    {
      "cell_type": "markdown",
      "source": [
        "# Dataframe"
      ],
      "metadata": {
        "id": "M9MTCAp5sAce"
      }
    },
    {
      "cell_type": "code",
      "source": [
        "# Load data\n",
        "data = pd.read_csv('/content/drive/MyDrive/Colab Notebooks/Portofolio/StudentsPerformance.csv')\n",
        "data.head()"
      ],
      "metadata": {
        "colab": {
          "base_uri": "https://localhost:8080/",
          "height": 268
        },
        "id": "5vCkxdGvsHEU",
        "outputId": "ae93f1c0-80fe-44ed-f35a-07898f257cae"
      },
      "execution_count": null,
      "outputs": [
        {
          "output_type": "execute_result",
          "data": {
            "text/plain": [
              "   gender race/ethnicity parental level of education         lunch  \\\n",
              "0  female        group B           bachelor's degree      standard   \n",
              "1  female        group C                some college      standard   \n",
              "2  female        group B             master's degree      standard   \n",
              "3    male        group A          associate's degree  free/reduced   \n",
              "4    male        group C                some college      standard   \n",
              "\n",
              "  test preparation course  math score  reading score  writing score  \n",
              "0                    none          72             72             74  \n",
              "1               completed          69             90             88  \n",
              "2                    none          90             95             93  \n",
              "3                    none          47             57             44  \n",
              "4                    none          76             78             75  "
            ],
            "text/html": [
              "\n",
              "  <div id=\"df-fca349fc-1a7a-4b86-8a77-fe4353be553f\">\n",
              "    <div class=\"colab-df-container\">\n",
              "      <div>\n",
              "<style scoped>\n",
              "    .dataframe tbody tr th:only-of-type {\n",
              "        vertical-align: middle;\n",
              "    }\n",
              "\n",
              "    .dataframe tbody tr th {\n",
              "        vertical-align: top;\n",
              "    }\n",
              "\n",
              "    .dataframe thead th {\n",
              "        text-align: right;\n",
              "    }\n",
              "</style>\n",
              "<table border=\"1\" class=\"dataframe\">\n",
              "  <thead>\n",
              "    <tr style=\"text-align: right;\">\n",
              "      <th></th>\n",
              "      <th>gender</th>\n",
              "      <th>race/ethnicity</th>\n",
              "      <th>parental level of education</th>\n",
              "      <th>lunch</th>\n",
              "      <th>test preparation course</th>\n",
              "      <th>math score</th>\n",
              "      <th>reading score</th>\n",
              "      <th>writing score</th>\n",
              "    </tr>\n",
              "  </thead>\n",
              "  <tbody>\n",
              "    <tr>\n",
              "      <th>0</th>\n",
              "      <td>female</td>\n",
              "      <td>group B</td>\n",
              "      <td>bachelor's degree</td>\n",
              "      <td>standard</td>\n",
              "      <td>none</td>\n",
              "      <td>72</td>\n",
              "      <td>72</td>\n",
              "      <td>74</td>\n",
              "    </tr>\n",
              "    <tr>\n",
              "      <th>1</th>\n",
              "      <td>female</td>\n",
              "      <td>group C</td>\n",
              "      <td>some college</td>\n",
              "      <td>standard</td>\n",
              "      <td>completed</td>\n",
              "      <td>69</td>\n",
              "      <td>90</td>\n",
              "      <td>88</td>\n",
              "    </tr>\n",
              "    <tr>\n",
              "      <th>2</th>\n",
              "      <td>female</td>\n",
              "      <td>group B</td>\n",
              "      <td>master's degree</td>\n",
              "      <td>standard</td>\n",
              "      <td>none</td>\n",
              "      <td>90</td>\n",
              "      <td>95</td>\n",
              "      <td>93</td>\n",
              "    </tr>\n",
              "    <tr>\n",
              "      <th>3</th>\n",
              "      <td>male</td>\n",
              "      <td>group A</td>\n",
              "      <td>associate's degree</td>\n",
              "      <td>free/reduced</td>\n",
              "      <td>none</td>\n",
              "      <td>47</td>\n",
              "      <td>57</td>\n",
              "      <td>44</td>\n",
              "    </tr>\n",
              "    <tr>\n",
              "      <th>4</th>\n",
              "      <td>male</td>\n",
              "      <td>group C</td>\n",
              "      <td>some college</td>\n",
              "      <td>standard</td>\n",
              "      <td>none</td>\n",
              "      <td>76</td>\n",
              "      <td>78</td>\n",
              "      <td>75</td>\n",
              "    </tr>\n",
              "  </tbody>\n",
              "</table>\n",
              "</div>\n",
              "      <button class=\"colab-df-convert\" onclick=\"convertToInteractive('df-fca349fc-1a7a-4b86-8a77-fe4353be553f')\"\n",
              "              title=\"Convert this dataframe to an interactive table.\"\n",
              "              style=\"display:none;\">\n",
              "        \n",
              "  <svg xmlns=\"http://www.w3.org/2000/svg\" height=\"24px\"viewBox=\"0 0 24 24\"\n",
              "       width=\"24px\">\n",
              "    <path d=\"M0 0h24v24H0V0z\" fill=\"none\"/>\n",
              "    <path d=\"M18.56 5.44l.94 2.06.94-2.06 2.06-.94-2.06-.94-.94-2.06-.94 2.06-2.06.94zm-11 1L8.5 8.5l.94-2.06 2.06-.94-2.06-.94L8.5 2.5l-.94 2.06-2.06.94zm10 10l.94 2.06.94-2.06 2.06-.94-2.06-.94-.94-2.06-.94 2.06-2.06.94z\"/><path d=\"M17.41 7.96l-1.37-1.37c-.4-.4-.92-.59-1.43-.59-.52 0-1.04.2-1.43.59L10.3 9.45l-7.72 7.72c-.78.78-.78 2.05 0 2.83L4 21.41c.39.39.9.59 1.41.59.51 0 1.02-.2 1.41-.59l7.78-7.78 2.81-2.81c.8-.78.8-2.07 0-2.86zM5.41 20L4 18.59l7.72-7.72 1.47 1.35L5.41 20z\"/>\n",
              "  </svg>\n",
              "      </button>\n",
              "      \n",
              "  <style>\n",
              "    .colab-df-container {\n",
              "      display:flex;\n",
              "      flex-wrap:wrap;\n",
              "      gap: 12px;\n",
              "    }\n",
              "\n",
              "    .colab-df-convert {\n",
              "      background-color: #E8F0FE;\n",
              "      border: none;\n",
              "      border-radius: 50%;\n",
              "      cursor: pointer;\n",
              "      display: none;\n",
              "      fill: #1967D2;\n",
              "      height: 32px;\n",
              "      padding: 0 0 0 0;\n",
              "      width: 32px;\n",
              "    }\n",
              "\n",
              "    .colab-df-convert:hover {\n",
              "      background-color: #E2EBFA;\n",
              "      box-shadow: 0px 1px 2px rgba(60, 64, 67, 0.3), 0px 1px 3px 1px rgba(60, 64, 67, 0.15);\n",
              "      fill: #174EA6;\n",
              "    }\n",
              "\n",
              "    [theme=dark] .colab-df-convert {\n",
              "      background-color: #3B4455;\n",
              "      fill: #D2E3FC;\n",
              "    }\n",
              "\n",
              "    [theme=dark] .colab-df-convert:hover {\n",
              "      background-color: #434B5C;\n",
              "      box-shadow: 0px 1px 3px 1px rgba(0, 0, 0, 0.15);\n",
              "      filter: drop-shadow(0px 1px 2px rgba(0, 0, 0, 0.3));\n",
              "      fill: #FFFFFF;\n",
              "    }\n",
              "  </style>\n",
              "\n",
              "      <script>\n",
              "        const buttonEl =\n",
              "          document.querySelector('#df-fca349fc-1a7a-4b86-8a77-fe4353be553f button.colab-df-convert');\n",
              "        buttonEl.style.display =\n",
              "          google.colab.kernel.accessAllowed ? 'block' : 'none';\n",
              "\n",
              "        async function convertToInteractive(key) {\n",
              "          const element = document.querySelector('#df-fca349fc-1a7a-4b86-8a77-fe4353be553f');\n",
              "          const dataTable =\n",
              "            await google.colab.kernel.invokeFunction('convertToInteractive',\n",
              "                                                     [key], {});\n",
              "          if (!dataTable) return;\n",
              "\n",
              "          const docLinkHtml = 'Like what you see? Visit the ' +\n",
              "            '<a target=\"_blank\" href=https://colab.research.google.com/notebooks/data_table.ipynb>data table notebook</a>'\n",
              "            + ' to learn more about interactive tables.';\n",
              "          element.innerHTML = '';\n",
              "          dataTable['output_type'] = 'display_data';\n",
              "          await google.colab.output.renderOutput(dataTable, element);\n",
              "          const docLink = document.createElement('div');\n",
              "          docLink.innerHTML = docLinkHtml;\n",
              "          element.appendChild(docLink);\n",
              "        }\n",
              "      </script>\n",
              "    </div>\n",
              "  </div>\n",
              "  "
            ]
          },
          "metadata": {},
          "execution_count": 3
        }
      ]
    },
    {
      "cell_type": "markdown",
      "source": [
        "Dari dataset yang dipilih terdapat beberapa kolom antara lain:\n",
        "*   gender =  jenis kelamin siswa\n",
        "*   race/ethnicity = kelompok ras/etnis siswa\n",
        "*   parental level of education = tingkat edukasi tertinggi orang tua siswa\n",
        "*   lunch = jenis makan siang siswa\n",
        "*   test preparation course = keikutan serta siswa dalam persiapan belajar\n",
        "*   math score = nilai kemampuan matematika\n",
        "*   reading score = nilai kemampuan membaca\n",
        "*   writing score = nilai kemampuan menulis\n",
        "\n",
        "\n",
        "\n",
        "\n",
        "\n",
        "\n",
        "\n",
        "\n",
        "\n",
        "\n"
      ],
      "metadata": {
        "id": "oTTNZ3JGxQAl"
      }
    },
    {
      "cell_type": "code",
      "source": [
        "# Show number of columns and rows\n",
        "data.shape"
      ],
      "metadata": {
        "colab": {
          "base_uri": "https://localhost:8080/"
        },
        "id": "x1O5uWdcsqwF",
        "outputId": "d1beecb4-4abe-458b-8491-5a5c4d99941e"
      },
      "execution_count": null,
      "outputs": [
        {
          "output_type": "execute_result",
          "data": {
            "text/plain": [
              "(1000, 8)"
            ]
          },
          "metadata": {},
          "execution_count": 4
        }
      ]
    },
    {
      "cell_type": "markdown",
      "source": [
        "Dataframe ini memiliki 1000 kolom dan 8 baris pada awalnya."
      ],
      "metadata": {
        "id": "02hFqRcSyzT5"
      }
    },
    {
      "cell_type": "code",
      "source": [
        "# Concise summary of DataFrame\n",
        "data.info()"
      ],
      "metadata": {
        "colab": {
          "base_uri": "https://localhost:8080/"
        },
        "id": "NuVWaxCdsvlE",
        "outputId": "9565d90c-7eef-48c6-9b98-673a807f3fe6"
      },
      "execution_count": null,
      "outputs": [
        {
          "output_type": "stream",
          "name": "stdout",
          "text": [
            "<class 'pandas.core.frame.DataFrame'>\n",
            "RangeIndex: 1000 entries, 0 to 999\n",
            "Data columns (total 8 columns):\n",
            " #   Column                       Non-Null Count  Dtype \n",
            "---  ------                       --------------  ----- \n",
            " 0   gender                       1000 non-null   object\n",
            " 1   race/ethnicity               1000 non-null   object\n",
            " 2   parental level of education  1000 non-null   object\n",
            " 3   lunch                        1000 non-null   object\n",
            " 4   test preparation course      1000 non-null   object\n",
            " 5   math score                   1000 non-null   int64 \n",
            " 6   reading score                1000 non-null   int64 \n",
            " 7   writing score                1000 non-null   int64 \n",
            "dtypes: int64(3), object(5)\n",
            "memory usage: 62.6+ KB\n"
          ]
        }
      ]
    },
    {
      "cell_type": "markdown",
      "source": [
        "Dataframe ini memiliki:\n",
        "*   Empat kolom bertipe data object yaitu gender, race/ethnicity, parental level education, lunch dan test preparation course\n",
        "*   Tiga kolom bertipe integer yaitu math score, reading score dan writing score\n"
      ],
      "metadata": {
        "id": "Xmd9HxQ-zA4d"
      }
    },
    {
      "cell_type": "markdown",
      "source": [
        "# Missing Values"
      ],
      "metadata": {
        "id": "O3CbdOjauCGt"
      }
    },
    {
      "cell_type": "code",
      "source": [
        "# Check missing value using .isnull()\n",
        "data.isnull().sum()"
      ],
      "metadata": {
        "colab": {
          "base_uri": "https://localhost:8080/"
        },
        "id": "iShvOrlHuBcT",
        "outputId": "a0f434f9-8b46-4d44-cfe6-c7a6df80da50"
      },
      "execution_count": null,
      "outputs": [
        {
          "output_type": "execute_result",
          "data": {
            "text/plain": [
              "gender                         0\n",
              "race/ethnicity                 0\n",
              "parental level of education    0\n",
              "lunch                          0\n",
              "test preparation course        0\n",
              "math score                     0\n",
              "reading score                  0\n",
              "writing score                  0\n",
              "dtype: int64"
            ]
          },
          "metadata": {},
          "execution_count": 6
        }
      ]
    },
    {
      "cell_type": "markdown",
      "source": [
        "Seluruh kolom pada dataframe ini tidak memiliki missing values"
      ],
      "metadata": {
        "id": "z3Ps_fNpzpo3"
      }
    },
    {
      "cell_type": "markdown",
      "source": [
        "# Duplicated Data"
      ],
      "metadata": {
        "id": "9zZn562nvNVZ"
      }
    },
    {
      "cell_type": "code",
      "source": [
        "# Number of duplicated data\n",
        "data.duplicated().sum()"
      ],
      "metadata": {
        "colab": {
          "base_uri": "https://localhost:8080/"
        },
        "id": "MEu8wxJSvQ7o",
        "outputId": "f947c740-53f5-4311-bb16-2196e2c8d43e"
      },
      "execution_count": null,
      "outputs": [
        {
          "output_type": "execute_result",
          "data": {
            "text/plain": [
              "0"
            ]
          },
          "metadata": {},
          "execution_count": 7
        }
      ]
    },
    {
      "cell_type": "markdown",
      "source": [
        "Seluruh kolom pada dataframe ini tidak memiliki nilai/data yang duplikat"
      ],
      "metadata": {
        "id": "gde0puErzxaY"
      }
    },
    {
      "cell_type": "markdown",
      "source": [
        "# Statistical Summary"
      ],
      "metadata": {
        "id": "8Nt7g4v8u1IO"
      }
    },
    {
      "cell_type": "code",
      "source": [
        "# Group column names based on type\n",
        "categoricals = ['gender', 'race/ethnicity', 'parental level of education', 'lunch', 'test preparation course']\n",
        "numericals = ['math score', 'reading score', 'writing score']"
      ],
      "metadata": {
        "id": "DMSqUYjQuaj-"
      },
      "execution_count": null,
      "outputs": []
    },
    {
      "cell_type": "markdown",
      "source": [
        "Kolom-kolom dikelompokan berdasarkan jenis datanya untuk mempermudah analisis"
      ],
      "metadata": {
        "id": "vFheIc74z7o9"
      }
    },
    {
      "cell_type": "code",
      "source": [
        "# Numerical statistical sumMary\n",
        "data[numericals].describe()"
      ],
      "metadata": {
        "colab": {
          "base_uri": "https://localhost:8080/",
          "height": 300
        },
        "id": "S0nKN-cgxMs1",
        "outputId": "f46e8404-3c39-45c8-8643-0e817175b71e"
      },
      "execution_count": null,
      "outputs": [
        {
          "output_type": "execute_result",
          "data": {
            "text/plain": [
              "       math score  reading score  writing score\n",
              "count  1000.00000    1000.000000    1000.000000\n",
              "mean     66.08900      69.169000      68.054000\n",
              "std      15.16308      14.600192      15.195657\n",
              "min       0.00000      17.000000      10.000000\n",
              "25%      57.00000      59.000000      57.750000\n",
              "50%      66.00000      70.000000      69.000000\n",
              "75%      77.00000      79.000000      79.000000\n",
              "max     100.00000     100.000000     100.000000"
            ],
            "text/html": [
              "\n",
              "  <div id=\"df-2725245a-3e72-4618-bc2c-fe7156c2a816\">\n",
              "    <div class=\"colab-df-container\">\n",
              "      <div>\n",
              "<style scoped>\n",
              "    .dataframe tbody tr th:only-of-type {\n",
              "        vertical-align: middle;\n",
              "    }\n",
              "\n",
              "    .dataframe tbody tr th {\n",
              "        vertical-align: top;\n",
              "    }\n",
              "\n",
              "    .dataframe thead th {\n",
              "        text-align: right;\n",
              "    }\n",
              "</style>\n",
              "<table border=\"1\" class=\"dataframe\">\n",
              "  <thead>\n",
              "    <tr style=\"text-align: right;\">\n",
              "      <th></th>\n",
              "      <th>math score</th>\n",
              "      <th>reading score</th>\n",
              "      <th>writing score</th>\n",
              "    </tr>\n",
              "  </thead>\n",
              "  <tbody>\n",
              "    <tr>\n",
              "      <th>count</th>\n",
              "      <td>1000.00000</td>\n",
              "      <td>1000.000000</td>\n",
              "      <td>1000.000000</td>\n",
              "    </tr>\n",
              "    <tr>\n",
              "      <th>mean</th>\n",
              "      <td>66.08900</td>\n",
              "      <td>69.169000</td>\n",
              "      <td>68.054000</td>\n",
              "    </tr>\n",
              "    <tr>\n",
              "      <th>std</th>\n",
              "      <td>15.16308</td>\n",
              "      <td>14.600192</td>\n",
              "      <td>15.195657</td>\n",
              "    </tr>\n",
              "    <tr>\n",
              "      <th>min</th>\n",
              "      <td>0.00000</td>\n",
              "      <td>17.000000</td>\n",
              "      <td>10.000000</td>\n",
              "    </tr>\n",
              "    <tr>\n",
              "      <th>25%</th>\n",
              "      <td>57.00000</td>\n",
              "      <td>59.000000</td>\n",
              "      <td>57.750000</td>\n",
              "    </tr>\n",
              "    <tr>\n",
              "      <th>50%</th>\n",
              "      <td>66.00000</td>\n",
              "      <td>70.000000</td>\n",
              "      <td>69.000000</td>\n",
              "    </tr>\n",
              "    <tr>\n",
              "      <th>75%</th>\n",
              "      <td>77.00000</td>\n",
              "      <td>79.000000</td>\n",
              "      <td>79.000000</td>\n",
              "    </tr>\n",
              "    <tr>\n",
              "      <th>max</th>\n",
              "      <td>100.00000</td>\n",
              "      <td>100.000000</td>\n",
              "      <td>100.000000</td>\n",
              "    </tr>\n",
              "  </tbody>\n",
              "</table>\n",
              "</div>\n",
              "      <button class=\"colab-df-convert\" onclick=\"convertToInteractive('df-2725245a-3e72-4618-bc2c-fe7156c2a816')\"\n",
              "              title=\"Convert this dataframe to an interactive table.\"\n",
              "              style=\"display:none;\">\n",
              "        \n",
              "  <svg xmlns=\"http://www.w3.org/2000/svg\" height=\"24px\"viewBox=\"0 0 24 24\"\n",
              "       width=\"24px\">\n",
              "    <path d=\"M0 0h24v24H0V0z\" fill=\"none\"/>\n",
              "    <path d=\"M18.56 5.44l.94 2.06.94-2.06 2.06-.94-2.06-.94-.94-2.06-.94 2.06-2.06.94zm-11 1L8.5 8.5l.94-2.06 2.06-.94-2.06-.94L8.5 2.5l-.94 2.06-2.06.94zm10 10l.94 2.06.94-2.06 2.06-.94-2.06-.94-.94-2.06-.94 2.06-2.06.94z\"/><path d=\"M17.41 7.96l-1.37-1.37c-.4-.4-.92-.59-1.43-.59-.52 0-1.04.2-1.43.59L10.3 9.45l-7.72 7.72c-.78.78-.78 2.05 0 2.83L4 21.41c.39.39.9.59 1.41.59.51 0 1.02-.2 1.41-.59l7.78-7.78 2.81-2.81c.8-.78.8-2.07 0-2.86zM5.41 20L4 18.59l7.72-7.72 1.47 1.35L5.41 20z\"/>\n",
              "  </svg>\n",
              "      </button>\n",
              "      \n",
              "  <style>\n",
              "    .colab-df-container {\n",
              "      display:flex;\n",
              "      flex-wrap:wrap;\n",
              "      gap: 12px;\n",
              "    }\n",
              "\n",
              "    .colab-df-convert {\n",
              "      background-color: #E8F0FE;\n",
              "      border: none;\n",
              "      border-radius: 50%;\n",
              "      cursor: pointer;\n",
              "      display: none;\n",
              "      fill: #1967D2;\n",
              "      height: 32px;\n",
              "      padding: 0 0 0 0;\n",
              "      width: 32px;\n",
              "    }\n",
              "\n",
              "    .colab-df-convert:hover {\n",
              "      background-color: #E2EBFA;\n",
              "      box-shadow: 0px 1px 2px rgba(60, 64, 67, 0.3), 0px 1px 3px 1px rgba(60, 64, 67, 0.15);\n",
              "      fill: #174EA6;\n",
              "    }\n",
              "\n",
              "    [theme=dark] .colab-df-convert {\n",
              "      background-color: #3B4455;\n",
              "      fill: #D2E3FC;\n",
              "    }\n",
              "\n",
              "    [theme=dark] .colab-df-convert:hover {\n",
              "      background-color: #434B5C;\n",
              "      box-shadow: 0px 1px 3px 1px rgba(0, 0, 0, 0.15);\n",
              "      filter: drop-shadow(0px 1px 2px rgba(0, 0, 0, 0.3));\n",
              "      fill: #FFFFFF;\n",
              "    }\n",
              "  </style>\n",
              "\n",
              "      <script>\n",
              "        const buttonEl =\n",
              "          document.querySelector('#df-2725245a-3e72-4618-bc2c-fe7156c2a816 button.colab-df-convert');\n",
              "        buttonEl.style.display =\n",
              "          google.colab.kernel.accessAllowed ? 'block' : 'none';\n",
              "\n",
              "        async function convertToInteractive(key) {\n",
              "          const element = document.querySelector('#df-2725245a-3e72-4618-bc2c-fe7156c2a816');\n",
              "          const dataTable =\n",
              "            await google.colab.kernel.invokeFunction('convertToInteractive',\n",
              "                                                     [key], {});\n",
              "          if (!dataTable) return;\n",
              "\n",
              "          const docLinkHtml = 'Like what you see? Visit the ' +\n",
              "            '<a target=\"_blank\" href=https://colab.research.google.com/notebooks/data_table.ipynb>data table notebook</a>'\n",
              "            + ' to learn more about interactive tables.';\n",
              "          element.innerHTML = '';\n",
              "          dataTable['output_type'] = 'display_data';\n",
              "          await google.colab.output.renderOutput(dataTable, element);\n",
              "          const docLink = document.createElement('div');\n",
              "          docLink.innerHTML = docLinkHtml;\n",
              "          element.appendChild(docLink);\n",
              "        }\n",
              "      </script>\n",
              "    </div>\n",
              "  </div>\n",
              "  "
            ]
          },
          "metadata": {},
          "execution_count": 9
        }
      ]
    },
    {
      "cell_type": "markdown",
      "source": [
        "Berdasarkan ringkasan statistik yang diperoleh dapat dinyatakan untuk kolom math score, reading score dan writing score memiliki data yang terdisbusi normal dikarenakan dapat dilihat dari nilai mean dan median(50%) yang tidak teralu jauh perbedaanya."
      ],
      "metadata": {
        "id": "ChTLk8qK0HHf"
      }
    },
    {
      "cell_type": "code",
      "source": [
        "# Categorical statistical sumary\n",
        "data[categoricals].describe()"
      ],
      "metadata": {
        "colab": {
          "base_uri": "https://localhost:8080/",
          "height": 175
        },
        "id": "enfGL30YxPBO",
        "outputId": "f28bc6df-b6e4-4237-95ab-3ac83c1cd22e"
      },
      "execution_count": null,
      "outputs": [
        {
          "output_type": "execute_result",
          "data": {
            "text/plain": [
              "        gender race/ethnicity parental level of education     lunch  \\\n",
              "count     1000           1000                        1000      1000   \n",
              "unique       2              5                           6         2   \n",
              "top     female        group C                some college  standard   \n",
              "freq       518            319                         226       645   \n",
              "\n",
              "       test preparation course  \n",
              "count                     1000  \n",
              "unique                       2  \n",
              "top                       none  \n",
              "freq                       642  "
            ],
            "text/html": [
              "\n",
              "  <div id=\"df-480ab265-6d0e-44d8-9ed8-3bc50cbba148\">\n",
              "    <div class=\"colab-df-container\">\n",
              "      <div>\n",
              "<style scoped>\n",
              "    .dataframe tbody tr th:only-of-type {\n",
              "        vertical-align: middle;\n",
              "    }\n",
              "\n",
              "    .dataframe tbody tr th {\n",
              "        vertical-align: top;\n",
              "    }\n",
              "\n",
              "    .dataframe thead th {\n",
              "        text-align: right;\n",
              "    }\n",
              "</style>\n",
              "<table border=\"1\" class=\"dataframe\">\n",
              "  <thead>\n",
              "    <tr style=\"text-align: right;\">\n",
              "      <th></th>\n",
              "      <th>gender</th>\n",
              "      <th>race/ethnicity</th>\n",
              "      <th>parental level of education</th>\n",
              "      <th>lunch</th>\n",
              "      <th>test preparation course</th>\n",
              "    </tr>\n",
              "  </thead>\n",
              "  <tbody>\n",
              "    <tr>\n",
              "      <th>count</th>\n",
              "      <td>1000</td>\n",
              "      <td>1000</td>\n",
              "      <td>1000</td>\n",
              "      <td>1000</td>\n",
              "      <td>1000</td>\n",
              "    </tr>\n",
              "    <tr>\n",
              "      <th>unique</th>\n",
              "      <td>2</td>\n",
              "      <td>5</td>\n",
              "      <td>6</td>\n",
              "      <td>2</td>\n",
              "      <td>2</td>\n",
              "    </tr>\n",
              "    <tr>\n",
              "      <th>top</th>\n",
              "      <td>female</td>\n",
              "      <td>group C</td>\n",
              "      <td>some college</td>\n",
              "      <td>standard</td>\n",
              "      <td>none</td>\n",
              "    </tr>\n",
              "    <tr>\n",
              "      <th>freq</th>\n",
              "      <td>518</td>\n",
              "      <td>319</td>\n",
              "      <td>226</td>\n",
              "      <td>645</td>\n",
              "      <td>642</td>\n",
              "    </tr>\n",
              "  </tbody>\n",
              "</table>\n",
              "</div>\n",
              "      <button class=\"colab-df-convert\" onclick=\"convertToInteractive('df-480ab265-6d0e-44d8-9ed8-3bc50cbba148')\"\n",
              "              title=\"Convert this dataframe to an interactive table.\"\n",
              "              style=\"display:none;\">\n",
              "        \n",
              "  <svg xmlns=\"http://www.w3.org/2000/svg\" height=\"24px\"viewBox=\"0 0 24 24\"\n",
              "       width=\"24px\">\n",
              "    <path d=\"M0 0h24v24H0V0z\" fill=\"none\"/>\n",
              "    <path d=\"M18.56 5.44l.94 2.06.94-2.06 2.06-.94-2.06-.94-.94-2.06-.94 2.06-2.06.94zm-11 1L8.5 8.5l.94-2.06 2.06-.94-2.06-.94L8.5 2.5l-.94 2.06-2.06.94zm10 10l.94 2.06.94-2.06 2.06-.94-2.06-.94-.94-2.06-.94 2.06-2.06.94z\"/><path d=\"M17.41 7.96l-1.37-1.37c-.4-.4-.92-.59-1.43-.59-.52 0-1.04.2-1.43.59L10.3 9.45l-7.72 7.72c-.78.78-.78 2.05 0 2.83L4 21.41c.39.39.9.59 1.41.59.51 0 1.02-.2 1.41-.59l7.78-7.78 2.81-2.81c.8-.78.8-2.07 0-2.86zM5.41 20L4 18.59l7.72-7.72 1.47 1.35L5.41 20z\"/>\n",
              "  </svg>\n",
              "      </button>\n",
              "      \n",
              "  <style>\n",
              "    .colab-df-container {\n",
              "      display:flex;\n",
              "      flex-wrap:wrap;\n",
              "      gap: 12px;\n",
              "    }\n",
              "\n",
              "    .colab-df-convert {\n",
              "      background-color: #E8F0FE;\n",
              "      border: none;\n",
              "      border-radius: 50%;\n",
              "      cursor: pointer;\n",
              "      display: none;\n",
              "      fill: #1967D2;\n",
              "      height: 32px;\n",
              "      padding: 0 0 0 0;\n",
              "      width: 32px;\n",
              "    }\n",
              "\n",
              "    .colab-df-convert:hover {\n",
              "      background-color: #E2EBFA;\n",
              "      box-shadow: 0px 1px 2px rgba(60, 64, 67, 0.3), 0px 1px 3px 1px rgba(60, 64, 67, 0.15);\n",
              "      fill: #174EA6;\n",
              "    }\n",
              "\n",
              "    [theme=dark] .colab-df-convert {\n",
              "      background-color: #3B4455;\n",
              "      fill: #D2E3FC;\n",
              "    }\n",
              "\n",
              "    [theme=dark] .colab-df-convert:hover {\n",
              "      background-color: #434B5C;\n",
              "      box-shadow: 0px 1px 3px 1px rgba(0, 0, 0, 0.15);\n",
              "      filter: drop-shadow(0px 1px 2px rgba(0, 0, 0, 0.3));\n",
              "      fill: #FFFFFF;\n",
              "    }\n",
              "  </style>\n",
              "\n",
              "      <script>\n",
              "        const buttonEl =\n",
              "          document.querySelector('#df-480ab265-6d0e-44d8-9ed8-3bc50cbba148 button.colab-df-convert');\n",
              "        buttonEl.style.display =\n",
              "          google.colab.kernel.accessAllowed ? 'block' : 'none';\n",
              "\n",
              "        async function convertToInteractive(key) {\n",
              "          const element = document.querySelector('#df-480ab265-6d0e-44d8-9ed8-3bc50cbba148');\n",
              "          const dataTable =\n",
              "            await google.colab.kernel.invokeFunction('convertToInteractive',\n",
              "                                                     [key], {});\n",
              "          if (!dataTable) return;\n",
              "\n",
              "          const docLinkHtml = 'Like what you see? Visit the ' +\n",
              "            '<a target=\"_blank\" href=https://colab.research.google.com/notebooks/data_table.ipynb>data table notebook</a>'\n",
              "            + ' to learn more about interactive tables.';\n",
              "          element.innerHTML = '';\n",
              "          dataTable['output_type'] = 'display_data';\n",
              "          await google.colab.output.renderOutput(dataTable, element);\n",
              "          const docLink = document.createElement('div');\n",
              "          docLink.innerHTML = docLinkHtml;\n",
              "          element.appendChild(docLink);\n",
              "        }\n",
              "      </script>\n",
              "    </div>\n",
              "  </div>\n",
              "  "
            ]
          },
          "metadata": {},
          "execution_count": 10
        }
      ]
    },
    {
      "cell_type": "markdown",
      "source": [
        "Berdasarkan ringkasan statistik untuk data-data jenis kategorikal diperoleh bahwa:\n",
        "*   kolom gender memiliki 2 jenis nilai data\n",
        "*   kolom race/ethnicity memiliki 5 jenis nilai data\n",
        "*   kolom parental level of education memiliki 6 jenis nilai data\n",
        "*   kolom lunch memiliki 2 jenis nilai data\n",
        "*   kolom test preparation course memiliki 2 jenis nilai data\n",
        "\n",
        "\n",
        "\n"
      ],
      "metadata": {
        "id": "M9JxVEo10rA7"
      }
    },
    {
      "cell_type": "markdown",
      "source": [
        "# Data Vizualitation"
      ],
      "metadata": {
        "id": "E1NHzxuaz-TU"
      }
    },
    {
      "cell_type": "code",
      "source": [
        "# Student Proportion by Gender\n",
        "gender_counts = data[\"gender\"].value_counts()\n",
        "ax = gender_counts.plot(kind='pie',\n",
        "             figsize = (12,7),\n",
        "             autopct='%1.1f%%', \n",
        "             startangle=45,\n",
        "             labels=None,         \n",
        "             pctdistance=1.1,    \n",
        "             textprops={'fontsize': 12})\n",
        "ax.patch.set_facecolor('white')\n",
        "plt.title('Student Proportion by Gender', size = 20)\n",
        "ax.set(ylabel=None)\n",
        "plt.axis('equal') \n",
        "plt.legend(labels=[\"Female\", \"Male\"], loc=\"upper left\", title=\"Gender\", fontsize=12);"
      ],
      "metadata": {
        "colab": {
          "base_uri": "https://localhost:8080/",
          "height": 432
        },
        "id": "DdMWSYFU4fF2",
        "outputId": "615a0a65-985f-4e72-a61f-b1fd6b2544d4"
      },
      "execution_count": null,
      "outputs": [
        {
          "output_type": "display_data",
          "data": {
            "text/plain": [
              "<Figure size 864x504 with 1 Axes>"
            ],
            "image/png": "[encoded data removed]"
          },
          "metadata": {}
        }
      ]
    },
    {
      "cell_type": "markdown",
      "source": [
        "Proporsi jumlah mahasiswa perempuan lebih banyak dibandingkan jumlah mahasiswa laki-laki."
      ],
      "metadata": {
        "id": "wuN-ZoZc2rTF"
      }
    },
    {
      "cell_type": "code",
      "source": [
        "# Student Proportion by Race\n",
        "race_value_counts = data['race/ethnicity'].value_counts()\n",
        "plt.figure(figsize=(12,7))\n",
        "ax = sns.barplot(x=race_value_counts.values, y=race_value_counts.index, orient='h', palette='mako')\n",
        "ax.set_title(\"Student Proportion by Race\", size=20)\n",
        "ax.set_xlabel(xlabel=\"Count\", size=12)\n",
        "ax.set_ylabel(ylabel=\"Race\", size=12)\n",
        "\n",
        "# Annotate value labels to each group\n",
        "for index, value in enumerate(race_value_counts): \n",
        "    plt.annotate(value, xy=(value-10, index), color='white') "
      ],
      "metadata": {
        "colab": {
          "base_uri": "https://localhost:8080/",
          "height": 466
        },
        "id": "usfjIz3-6ifw",
        "outputId": "1914f3fc-c702-417a-c8a7-fe1f9573370b"
      },
      "execution_count": null,
      "outputs": [
        {
          "output_type": "display_data",
          "data": {
            "text/plain": [
              "<Figure size 864x504 with 1 Axes>"
            ],
            "image/png": "[encoded data removed]"
          },
          "metadata": {
            "needs_background": "light"
          }
        }
      ]
    },
    {
      "cell_type": "markdown",
      "source": [
        "Kelompok ras grup C merupakan yang terbanyak dan kelompok ras grup A merupakan yang paling sedikit jumlahnya diantara siswa."
      ],
      "metadata": {
        "id": "rTHdiDBZ25VM"
      }
    },
    {
      "cell_type": "code",
      "source": [
        "# Student Proportion by Parental Level of Education\n",
        "level_education_value_counts = data['parental level of education'].value_counts()\n",
        "plt.figure(figsize=(12,7))\n",
        "ax = sns.barplot(x=level_education_value_counts.index, y=level_education_value_counts.values, palette='mako')\n",
        "ax.set_title(\"Student Proportion by Parental Level of Education\", size=20)\n",
        "ax.set_xlabel(xlabel=\"Level of Education\", size=12)\n",
        "ax.set_ylabel(ylabel=\"Count\", size=12)\n",
        "\n",
        "# Annotate value labels to each level\n",
        "for index, value in enumerate(level_education_value_counts): \n",
        "    plt.annotate(value, xy=(index, value-10), color='white') "
      ],
      "metadata": {
        "colab": {
          "base_uri": "https://localhost:8080/",
          "height": 466
        },
        "id": "PhyRcM4j84cI",
        "outputId": "1a74db3c-c167-43db-e06e-900002aae7b4"
      },
      "execution_count": null,
      "outputs": [
        {
          "output_type": "display_data",
          "data": {
            "text/plain": [
              "<Figure size 864x504 with 1 Axes>"
            ],
            "image/png": "[encoded data removed]"
          },
          "metadata": {
            "needs_background": "light"
          }
        }
      ]
    },
    {
      "cell_type": "markdown",
      "source": [
        "Jumlah orang tua siswa yang memiliki tingkat edukasi sampai tingkat sarjana merupakan yang paling banyak jumlahnya, sedangkan yang memiliki tingkat edukasi sampai gelas master merupakan yang paling sedikit jumlahnya."
      ],
      "metadata": {
        "id": "U9aymyRr3cJp"
      }
    },
    {
      "cell_type": "code",
      "source": [
        "# Student Proportion by Lunch Type\n",
        "lunch_counts = data[\"lunch\"].value_counts()\n",
        "ax = lunch_counts.plot(kind='pie',\n",
        "             figsize = (12,7),\n",
        "             autopct='%1.1f%%', \n",
        "             startangle=45,\n",
        "             labels=None,         \n",
        "             pctdistance=1.1,    \n",
        "             textprops={'fontsize': 12})\n",
        "ax.patch.set_facecolor('white')\n",
        "plt.title('Student Proportion by Lunch Type', size = 20)\n",
        "ax.set(ylabel=None)\n",
        "plt.axis('equal') \n",
        "plt.legend(loc=\"upper left\", labels=[\"Standard\", \"Free/Reduced\"], title=\"Lunch Type\", fontsize=12);"
      ],
      "metadata": {
        "colab": {
          "base_uri": "https://localhost:8080/",
          "height": 432
        },
        "id": "bn52sgcO9qMz",
        "outputId": "ef7960ad-2830-4c43-97e6-fa221a7075ab"
      },
      "execution_count": null,
      "outputs": [
        {
          "output_type": "display_data",
          "data": {
            "text/plain": [
              "<Figure size 864x504 with 1 Axes>"
            ],
            "image/png": "[encoded data removed]"
          },
          "metadata": {}
        }
      ]
    },
    {
      "cell_type": "markdown",
      "source": [
        "Jenis makan siang 'standar' merupakan yang dominan diantara siswa."
      ],
      "metadata": {
        "id": "Gn5xBR_K32pW"
      }
    },
    {
      "cell_type": "code",
      "source": [
        "# Student Proportion by Test Preparation Course\n",
        "test_preparation_counts = data[\"test preparation course\"].value_counts()\n",
        "ax = test_preparation_counts.plot(kind='pie',\n",
        "             figsize = (15,10),\n",
        "             autopct='%1.1f%%', \n",
        "             startangle=45,\n",
        "             labels=None,         \n",
        "             pctdistance=1.1,    \n",
        "             textprops={'fontsize': 12})\n",
        "ax.patch.set_facecolor('white')\n",
        "plt.title('Student Proportion by Test Preparation Course', size = 20)\n",
        "ax.set(ylabel=None)\n",
        "plt.axis('equal') \n",
        "plt.legend(loc=\"upper left\", labels=[\"None\", \"Completed\"], title=\"Test Preparation Course\", fontsize=12);"
      ],
      "metadata": {
        "colab": {
          "base_uri": "https://localhost:8080/",
          "height": 596
        },
        "id": "hTvEdfyv-QQm",
        "outputId": "8dc6b7f6-4af5-4d71-fa41-160c2384848e"
      },
      "execution_count": null,
      "outputs": [
        {
          "output_type": "display_data",
          "data": {
            "text/plain": [
              "<Figure size 1080x720 with 1 Axes>"
            ],
            "image/png": "[encoded data removed]"
          },
          "metadata": {}
        }
      ]
    },
    {
      "cell_type": "markdown",
      "source": [
        "Mayoritas siswa pada institusi pendidikan tidak mengikuti test persiapan belajar"
      ],
      "metadata": {
        "id": "fQ_0vDal3-zo"
      }
    },
    {
      "cell_type": "markdown",
      "source": [
        "# EDA"
      ],
      "metadata": {
        "id": "lmGWV_aS4Vsx"
      }
    },
    {
      "cell_type": "code",
      "source": [
        "# Numerical Data Distribution\n",
        "fig , axes = plt.subplots(2,3, figsize=(15,10))\n",
        "sns.histplot(data[data['gender'] =='male']['math score'],kde=True,ax = axes[0][0])\n",
        "sns.histplot(data[data['gender'] =='male']['reading score'],kde=True,ax = axes[0][1])\n",
        "sns.histplot(data[data['gender'] =='male']['writing score'],kde=True,ax = axes[0][2])\n",
        "\n",
        "sns.histplot(data[data['gender'] =='female']['math score'],kde=True,ax = axes[1][0],color='red')\n",
        "sns.histplot(data[data['gender'] =='female']['reading score'],kde=True,ax = axes[1][1],color='red')\n",
        "sns.histplot(data[data['gender'] =='female']['writing score'],kde=True,ax = axes[1][2],color='red')\n",
        "\n",
        "for i in range(0,3):\n",
        "    axes[0][i].set_title(\"Male\")\n",
        "    axes[1][i].set_title(\"Female\")\n",
        "    \n",
        "    axes[0][i].set_xlim(0,100)\n",
        "    axes[1][i].set_xlim(0,100)\n",
        "plt.show()"
      ],
      "metadata": {
        "colab": {
          "base_uri": "https://localhost:8080/",
          "height": 621
        },
        "id": "VRHD5-XHz94H",
        "outputId": "6753eac7-d2ad-4e4a-8e20-bae8870d6f4d"
      },
      "execution_count": null,
      "outputs": [
        {
          "output_type": "display_data",
          "data": {
            "text/plain": [
              "<Figure size 1080x720 with 6 Axes>"
            ],
            "image/png": "[encoded data removed]"
          },
          "metadata": {
            "needs_background": "light"
          }
        }
      ]
    },
    {
      "cell_type": "markdown",
      "source": [
        "Melalui grafik distribusi skor dapat dilihat bahwa nilai Pria terdistribusi lebih di tengah dibandingkan dengan wanita"
      ],
      "metadata": {
        "id": "vDfdclBx5McJ"
      }
    },
    {
      "cell_type": "code",
      "source": [
        "# Student score in every subject distinguished by gender\n",
        "fig, ax = plt.subplots()\n",
        "fig.subplots_adjust(hspace=0.8, wspace=0.8, left = 0.2, right = 1.5)\n",
        "for idx in range(3):\n",
        "    plt.subplot(1,3, idx+1)\n",
        "    gender_df = data.groupby(\"gender\")[list(data.columns[-3:])[idx]].describe()\n",
        "    sns.barplot(gender_df.index, gender_df.loc[:,\"mean\"].values)\n",
        "    plt.ylabel(\"score\")\n",
        "    plt.title(list(data.columns[-3:])[idx])\n",
        "    \n",
        "plt.show()"
      ],
      "metadata": {
        "colab": {
          "base_uri": "https://localhost:8080/",
          "height": 419
        },
        "id": "HjIP5dUmS7_a",
        "outputId": "952c54d7-69d6-4316-cb97-d063fc93307b"
      },
      "execution_count": null,
      "outputs": [
        {
          "output_type": "stream",
          "name": "stderr",
          "text": [
            "/usr/local/lib/python3.7/dist-packages/seaborn/_decorators.py:43: FutureWarning: Pass the following variables as keyword args: x, y. From version 0.12, the only valid positional argument will be `data`, and passing other arguments without an explicit keyword will result in an error or misinterpretation.\n",
            "  FutureWarning\n",
            "/usr/local/lib/python3.7/dist-packages/seaborn/_decorators.py:43: FutureWarning: Pass the following variables as keyword args: x, y. From version 0.12, the only valid positional argument will be `data`, and passing other arguments without an explicit keyword will result in an error or misinterpretation.\n",
            "  FutureWarning\n",
            "/usr/local/lib/python3.7/dist-packages/seaborn/_decorators.py:43: FutureWarning: Pass the following variables as keyword args: x, y. From version 0.12, the only valid positional argument will be `data`, and passing other arguments without an explicit keyword will result in an error or misinterpretation.\n",
            "  FutureWarning\n"
          ]
        },
        {
          "output_type": "display_data",
          "data": {
            "text/plain": [
              "<Figure size 432x288 with 3 Axes>"
            ],
            "image/png": "[encoded data removed]"
          },
          "metadata": {
            "needs_background": "light"
          }
        }
      ]
    },
    {
      "cell_type": "markdown",
      "source": [
        "Dapat dilihat bahwa nilai matematika laki-laki lebih tinggi daripada perempuan. Namun, untuk nilai reading dan writing, nilai perempuan lebih tinggi daripada laki-laki"
      ],
      "metadata": {
        "id": "FsbXRTlo5tmj"
      }
    },
    {
      "cell_type": "markdown",
      "source": [
        "**Mari kita berikan kategori nilai siswa**\n",
        "\n",
        "**Grading**\n",
        "*   90 - 100 = A Grade\n",
        "*   80 to 89 = B Grade\n",
        "*   70 to 79 = C Grade\n",
        "*   60 to 69 = D Grade\n",
        "*   50 to 59 = E Grade\n",
        "*   Below 50 = F Grade (Failed)"
      ],
      "metadata": {
        "id": "FnH-3a26DpYC"
      }
    },
    {
      "cell_type": "code",
      "source": [
        "# Value categorization\n",
        "grades_mapper = {'A': 90, 'B': 80, 'C': 70, 'D': 60, 'E': 50}\n",
        "\n",
        "def calc_usa_gpa(score):\n",
        "    for grade, threshold in grades_mapper.items():\n",
        "        if score >= threshold:\n",
        "            return grade\n",
        "    return 'F'\n",
        "    \n",
        "data[\"math grade\"] = data.apply(lambda x : calc_usa_gpa(x[\"math score\"]), axis=1)\n",
        "data[\"reading grade\"] = data.apply(lambda x : calc_usa_gpa(x[\"reading score\"]), axis=1)\n",
        "data[\"writing grade\"] = data.apply(lambda x : calc_usa_gpa(x[\"writing score\"]), axis=1)"
      ],
      "metadata": {
        "id": "sFV8MG5PMjsr"
      },
      "execution_count": null,
      "outputs": []
    },
    {
      "cell_type": "code",
      "source": [
        "# Add new column\n",
        "data['total scores'] = data['math score']+data['reading score']+data['writing score']\n",
        "data['average'] = data['total scores']/3"
      ],
      "metadata": {
        "id": "4EFh4Og-GgMK"
      },
      "execution_count": null,
      "outputs": []
    },
    {
      "cell_type": "markdown",
      "source": [
        "*   Setelah dilakukannya pengkategorian nilai, kolom pada dataframe bertambah 3 kolom yang mengkategorikan tingkat nilai yang diperoleh siswa\n",
        "*   Penambahan kolom berhasil dilakukan yang ditandai dengan adanya kolom total score dan average\n",
        "\n",
        "\n",
        "\n"
      ],
      "metadata": {
        "id": "e-u6p9lw65gs"
      }
    },
    {
      "cell_type": "code",
      "source": [
        "data.head()"
      ],
      "metadata": {
        "colab": {
          "base_uri": "https://localhost:8080/",
          "height": 268
        },
        "id": "NCV1_KLtGzuG",
        "outputId": "243d772f-22af-4031-de7e-7350ab500dce"
      },
      "execution_count": null,
      "outputs": [
        {
          "output_type": "execute_result",
          "data": {
            "text/plain": [
              "   gender race/ethnicity parental level of education         lunch  \\\n",
              "0  female        group B           bachelor's degree      standard   \n",
              "1  female        group C                some college      standard   \n",
              "2  female        group B             master's degree      standard   \n",
              "3    male        group A          associate's degree  free/reduced   \n",
              "4    male        group C                some college      standard   \n",
              "\n",
              "  test preparation course  math score  reading score  writing score  \\\n",
              "0                    none          72             72             74   \n",
              "1               completed          69             90             88   \n",
              "2                    none          90             95             93   \n",
              "3                    none          47             57             44   \n",
              "4                    none          76             78             75   \n",
              "\n",
              "  math grade reading grade writing grade  total scores    average  \n",
              "0          C             C             C           218  72.666667  \n",
              "1          D             A             B           247  82.333333  \n",
              "2          A             A             A           278  92.666667  \n",
              "3          F             E             F           148  49.333333  \n",
              "4          C             C             C           229  76.333333  "
            ],
            "text/html": [
              "\n",
              "  <div id=\"df-2d00f14d-4891-4662-a48e-e8354213315e\">\n",
              "    <div class=\"colab-df-container\">\n",
              "      <div>\n",
              "<style scoped>\n",
              "    .dataframe tbody tr th:only-of-type {\n",
              "        vertical-align: middle;\n",
              "    }\n",
              "\n",
              "    .dataframe tbody tr th {\n",
              "        vertical-align: top;\n",
              "    }\n",
              "\n",
              "    .dataframe thead th {\n",
              "        text-align: right;\n",
              "    }\n",
              "</style>\n",
              "<table border=\"1\" class=\"dataframe\">\n",
              "  <thead>\n",
              "    <tr style=\"text-align: right;\">\n",
              "      <th></th>\n",
              "      <th>gender</th>\n",
              "      <th>race/ethnicity</th>\n",
              "      <th>parental level of education</th>\n",
              "      <th>lunch</th>\n",
              "      <th>test preparation course</th>\n",
              "      <th>math score</th>\n",
              "      <th>reading score</th>\n",
              "      <th>writing score</th>\n",
              "      <th>math grade</th>\n",
              "      <th>reading grade</th>\n",
              "      <th>writing grade</th>\n",
              "      <th>total scores</th>\n",
              "      <th>average</th>\n",
              "    </tr>\n",
              "  </thead>\n",
              "  <tbody>\n",
              "    <tr>\n",
              "      <th>0</th>\n",
              "      <td>female</td>\n",
              "      <td>group B</td>\n",
              "      <td>bachelor's degree</td>\n",
              "      <td>standard</td>\n",
              "      <td>none</td>\n",
              "      <td>72</td>\n",
              "      <td>72</td>\n",
              "      <td>74</td>\n",
              "      <td>C</td>\n",
              "      <td>C</td>\n",
              "      <td>C</td>\n",
              "      <td>218</td>\n",
              "      <td>72.666667</td>\n",
              "    </tr>\n",
              "    <tr>\n",
              "      <th>1</th>\n",
              "      <td>female</td>\n",
              "      <td>group C</td>\n",
              "      <td>some college</td>\n",
              "      <td>standard</td>\n",
              "      <td>completed</td>\n",
              "      <td>69</td>\n",
              "      <td>90</td>\n",
              "      <td>88</td>\n",
              "      <td>D</td>\n",
              "      <td>A</td>\n",
              "      <td>B</td>\n",
              "      <td>247</td>\n",
              "      <td>82.333333</td>\n",
              "    </tr>\n",
              "    <tr>\n",
              "      <th>2</th>\n",
              "      <td>female</td>\n",
              "      <td>group B</td>\n",
              "      <td>master's degree</td>\n",
              "      <td>standard</td>\n",
              "      <td>none</td>\n",
              "      <td>90</td>\n",
              "      <td>95</td>\n",
              "      <td>93</td>\n",
              "      <td>A</td>\n",
              "      <td>A</td>\n",
              "      <td>A</td>\n",
              "      <td>278</td>\n",
              "      <td>92.666667</td>\n",
              "    </tr>\n",
              "    <tr>\n",
              "      <th>3</th>\n",
              "      <td>male</td>\n",
              "      <td>group A</td>\n",
              "      <td>associate's degree</td>\n",
              "      <td>free/reduced</td>\n",
              "      <td>none</td>\n",
              "      <td>47</td>\n",
              "      <td>57</td>\n",
              "      <td>44</td>\n",
              "      <td>F</td>\n",
              "      <td>E</td>\n",
              "      <td>F</td>\n",
              "      <td>148</td>\n",
              "      <td>49.333333</td>\n",
              "    </tr>\n",
              "    <tr>\n",
              "      <th>4</th>\n",
              "      <td>male</td>\n",
              "      <td>group C</td>\n",
              "      <td>some college</td>\n",
              "      <td>standard</td>\n",
              "      <td>none</td>\n",
              "      <td>76</td>\n",
              "      <td>78</td>\n",
              "      <td>75</td>\n",
              "      <td>C</td>\n",
              "      <td>C</td>\n",
              "      <td>C</td>\n",
              "      <td>229</td>\n",
              "      <td>76.333333</td>\n",
              "    </tr>\n",
              "  </tbody>\n",
              "</table>\n",
              "</div>\n",
              "      <button class=\"colab-df-convert\" onclick=\"convertToInteractive('df-2d00f14d-4891-4662-a48e-e8354213315e')\"\n",
              "              title=\"Convert this dataframe to an interactive table.\"\n",
              "              style=\"display:none;\">\n",
              "        \n",
              "  <svg xmlns=\"http://www.w3.org/2000/svg\" height=\"24px\"viewBox=\"0 0 24 24\"\n",
              "       width=\"24px\">\n",
              "    <path d=\"M0 0h24v24H0V0z\" fill=\"none\"/>\n",
              "    <path d=\"M18.56 5.44l.94 2.06.94-2.06 2.06-.94-2.06-.94-.94-2.06-.94 2.06-2.06.94zm-11 1L8.5 8.5l.94-2.06 2.06-.94-2.06-.94L8.5 2.5l-.94 2.06-2.06.94zm10 10l.94 2.06.94-2.06 2.06-.94-2.06-.94-.94-2.06-.94 2.06-2.06.94z\"/><path d=\"M17.41 7.96l-1.37-1.37c-.4-.4-.92-.59-1.43-.59-.52 0-1.04.2-1.43.59L10.3 9.45l-7.72 7.72c-.78.78-.78 2.05 0 2.83L4 21.41c.39.39.9.59 1.41.59.51 0 1.02-.2 1.41-.59l7.78-7.78 2.81-2.81c.8-.78.8-2.07 0-2.86zM5.41 20L4 18.59l7.72-7.72 1.47 1.35L5.41 20z\"/>\n",
              "  </svg>\n",
              "      </button>\n",
              "      \n",
              "  <style>\n",
              "    .colab-df-container {\n",
              "      display:flex;\n",
              "      flex-wrap:wrap;\n",
              "      gap: 12px;\n",
              "    }\n",
              "\n",
              "    .colab-df-convert {\n",
              "      background-color: #E8F0FE;\n",
              "      border: none;\n",
              "      border-radius: 50%;\n",
              "      cursor: pointer;\n",
              "      display: none;\n",
              "      fill: #1967D2;\n",
              "      height: 32px;\n",
              "      padding: 0 0 0 0;\n",
              "      width: 32px;\n",
              "    }\n",
              "\n",
              "    .colab-df-convert:hover {\n",
              "      background-color: #E2EBFA;\n",
              "      box-shadow: 0px 1px 2px rgba(60, 64, 67, 0.3), 0px 1px 3px 1px rgba(60, 64, 67, 0.15);\n",
              "      fill: #174EA6;\n",
              "    }\n",
              "\n",
              "    [theme=dark] .colab-df-convert {\n",
              "      background-color: #3B4455;\n",
              "      fill: #D2E3FC;\n",
              "    }\n",
              "\n",
              "    [theme=dark] .colab-df-convert:hover {\n",
              "      background-color: #434B5C;\n",
              "      box-shadow: 0px 1px 3px 1px rgba(0, 0, 0, 0.15);\n",
              "      filter: drop-shadow(0px 1px 2px rgba(0, 0, 0, 0.3));\n",
              "      fill: #FFFFFF;\n",
              "    }\n",
              "  </style>\n",
              "\n",
              "      <script>\n",
              "        const buttonEl =\n",
              "          document.querySelector('#df-2d00f14d-4891-4662-a48e-e8354213315e button.colab-df-convert');\n",
              "        buttonEl.style.display =\n",
              "          google.colab.kernel.accessAllowed ? 'block' : 'none';\n",
              "\n",
              "        async function convertToInteractive(key) {\n",
              "          const element = document.querySelector('#df-2d00f14d-4891-4662-a48e-e8354213315e');\n",
              "          const dataTable =\n",
              "            await google.colab.kernel.invokeFunction('convertToInteractive',\n",
              "                                                     [key], {});\n",
              "          if (!dataTable) return;\n",
              "\n",
              "          const docLinkHtml = 'Like what you see? Visit the ' +\n",
              "            '<a target=\"_blank\" href=https://colab.research.google.com/notebooks/data_table.ipynb>data table notebook</a>'\n",
              "            + ' to learn more about interactive tables.';\n",
              "          element.innerHTML = '';\n",
              "          dataTable['output_type'] = 'display_data';\n",
              "          await google.colab.output.renderOutput(dataTable, element);\n",
              "          const docLink = document.createElement('div');\n",
              "          docLink.innerHTML = docLinkHtml;\n",
              "          element.appendChild(docLink);\n",
              "        }\n",
              "      </script>\n",
              "    </div>\n",
              "  </div>\n",
              "  "
            ]
          },
          "metadata": {},
          "execution_count": 20
        }
      ]
    },
    {
      "cell_type": "markdown",
      "source": [
        "*   math grade = kategori grade dari nilai matematika yang diperoleh siswa\n",
        "*   reading grade = kategori grade dari nilai reading yang diperoleh siswa\n",
        "*   writing grade = kategori grade dari nilai writing yang diperoleh siswa\n",
        "*   total score = akumulasi jumlah ketiga nilai yang diperoleh siswa\n",
        "*   average = rata-rata ketiga nilai yang diperoleh siswa\n"
      ],
      "metadata": {
        "id": "onuycNJyUas0"
      }
    },
    {
      "cell_type": "code",
      "source": [
        "# Average value categorization\n",
        "grades_mapper = {'A': 90, 'B': 80, 'C': 70, 'D': 60, 'E': 50}\n",
        "def overall_grade(average):\n",
        "  for grade, threshold in grades_mapper.items():\n",
        "        if average >= threshold:\n",
        "            return grade\n",
        "  return 'F'\n",
        "    \n",
        "data[\"overall grade\"] = data.apply(lambda x : overall_grade(x[\"average\"]), axis=1)\n",
        "\n",
        "data.head()"
      ],
      "metadata": {
        "colab": {
          "base_uri": "https://localhost:8080/",
          "height": 302
        },
        "id": "IrA-yJnpPfOh",
        "outputId": "5c3b0c7b-6daa-4d7f-a06f-280220563a9d"
      },
      "execution_count": null,
      "outputs": [
        {
          "output_type": "execute_result",
          "data": {
            "text/plain": [
              "   gender race/ethnicity parental level of education         lunch  \\\n",
              "0  female        group B           bachelor's degree      standard   \n",
              "1  female        group C                some college      standard   \n",
              "2  female        group B             master's degree      standard   \n",
              "3    male        group A          associate's degree  free/reduced   \n",
              "4    male        group C                some college      standard   \n",
              "\n",
              "  test preparation course  math score  reading score  writing score  \\\n",
              "0                    none          72             72             74   \n",
              "1               completed          69             90             88   \n",
              "2                    none          90             95             93   \n",
              "3                    none          47             57             44   \n",
              "4                    none          76             78             75   \n",
              "\n",
              "  math grade reading grade writing grade  total scores    average  \\\n",
              "0          C             C             C           218  72.666667   \n",
              "1          D             A             B           247  82.333333   \n",
              "2          A             A             A           278  92.666667   \n",
              "3          F             E             F           148  49.333333   \n",
              "4          C             C             C           229  76.333333   \n",
              "\n",
              "  overall grade  \n",
              "0             C  \n",
              "1             B  \n",
              "2             A  \n",
              "3             F  \n",
              "4             C  "
            ],
            "text/html": [
              "\n",
              "  <div id=\"df-97cc0285-108b-4aae-97fe-97649872cf45\">\n",
              "    <div class=\"colab-df-container\">\n",
              "      <div>\n",
              "<style scoped>\n",
              "    .dataframe tbody tr th:only-of-type {\n",
              "        vertical-align: middle;\n",
              "    }\n",
              "\n",
              "    .dataframe tbody tr th {\n",
              "        vertical-align: top;\n",
              "    }\n",
              "\n",
              "    .dataframe thead th {\n",
              "        text-align: right;\n",
              "    }\n",
              "</style>\n",
              "<table border=\"1\" class=\"dataframe\">\n",
              "  <thead>\n",
              "    <tr style=\"text-align: right;\">\n",
              "      <th></th>\n",
              "      <th>gender</th>\n",
              "      <th>race/ethnicity</th>\n",
              "      <th>parental level of education</th>\n",
              "      <th>lunch</th>\n",
              "      <th>test preparation course</th>\n",
              "      <th>math score</th>\n",
              "      <th>reading score</th>\n",
              "      <th>writing score</th>\n",
              "      <th>math grade</th>\n",
              "      <th>reading grade</th>\n",
              "      <th>writing grade</th>\n",
              "      <th>total scores</th>\n",
              "      <th>average</th>\n",
              "      <th>overall grade</th>\n",
              "    </tr>\n",
              "  </thead>\n",
              "  <tbody>\n",
              "    <tr>\n",
              "      <th>0</th>\n",
              "      <td>female</td>\n",
              "      <td>group B</td>\n",
              "      <td>bachelor's degree</td>\n",
              "      <td>standard</td>\n",
              "      <td>none</td>\n",
              "      <td>72</td>\n",
              "      <td>72</td>\n",
              "      <td>74</td>\n",
              "      <td>C</td>\n",
              "      <td>C</td>\n",
              "      <td>C</td>\n",
              "      <td>218</td>\n",
              "      <td>72.666667</td>\n",
              "      <td>C</td>\n",
              "    </tr>\n",
              "    <tr>\n",
              "      <th>1</th>\n",
              "      <td>female</td>\n",
              "      <td>group C</td>\n",
              "      <td>some college</td>\n",
              "      <td>standard</td>\n",
              "      <td>completed</td>\n",
              "      <td>69</td>\n",
              "      <td>90</td>\n",
              "      <td>88</td>\n",
              "      <td>D</td>\n",
              "      <td>A</td>\n",
              "      <td>B</td>\n",
              "      <td>247</td>\n",
              "      <td>82.333333</td>\n",
              "      <td>B</td>\n",
              "    </tr>\n",
              "    <tr>\n",
              "      <th>2</th>\n",
              "      <td>female</td>\n",
              "      <td>group B</td>\n",
              "      <td>master's degree</td>\n",
              "      <td>standard</td>\n",
              "      <td>none</td>\n",
              "      <td>90</td>\n",
              "      <td>95</td>\n",
              "      <td>93</td>\n",
              "      <td>A</td>\n",
              "      <td>A</td>\n",
              "      <td>A</td>\n",
              "      <td>278</td>\n",
              "      <td>92.666667</td>\n",
              "      <td>A</td>\n",
              "    </tr>\n",
              "    <tr>\n",
              "      <th>3</th>\n",
              "      <td>male</td>\n",
              "      <td>group A</td>\n",
              "      <td>associate's degree</td>\n",
              "      <td>free/reduced</td>\n",
              "      <td>none</td>\n",
              "      <td>47</td>\n",
              "      <td>57</td>\n",
              "      <td>44</td>\n",
              "      <td>F</td>\n",
              "      <td>E</td>\n",
              "      <td>F</td>\n",
              "      <td>148</td>\n",
              "      <td>49.333333</td>\n",
              "      <td>F</td>\n",
              "    </tr>\n",
              "    <tr>\n",
              "      <th>4</th>\n",
              "      <td>male</td>\n",
              "      <td>group C</td>\n",
              "      <td>some college</td>\n",
              "      <td>standard</td>\n",
              "      <td>none</td>\n",
              "      <td>76</td>\n",
              "      <td>78</td>\n",
              "      <td>75</td>\n",
              "      <td>C</td>\n",
              "      <td>C</td>\n",
              "      <td>C</td>\n",
              "      <td>229</td>\n",
              "      <td>76.333333</td>\n",
              "      <td>C</td>\n",
              "    </tr>\n",
              "  </tbody>\n",
              "</table>\n",
              "</div>\n",
              "      <button class=\"colab-df-convert\" onclick=\"convertToInteractive('df-97cc0285-108b-4aae-97fe-97649872cf45')\"\n",
              "              title=\"Convert this dataframe to an interactive table.\"\n",
              "              style=\"display:none;\">\n",
              "        \n",
              "  <svg xmlns=\"http://www.w3.org/2000/svg\" height=\"24px\"viewBox=\"0 0 24 24\"\n",
              "       width=\"24px\">\n",
              "    <path d=\"M0 0h24v24H0V0z\" fill=\"none\"/>\n",
              "    <path d=\"M18.56 5.44l.94 2.06.94-2.06 2.06-.94-2.06-.94-.94-2.06-.94 2.06-2.06.94zm-11 1L8.5 8.5l.94-2.06 2.06-.94-2.06-.94L8.5 2.5l-.94 2.06-2.06.94zm10 10l.94 2.06.94-2.06 2.06-.94-2.06-.94-.94-2.06-.94 2.06-2.06.94z\"/><path d=\"M17.41 7.96l-1.37-1.37c-.4-.4-.92-.59-1.43-.59-.52 0-1.04.2-1.43.59L10.3 9.45l-7.72 7.72c-.78.78-.78 2.05 0 2.83L4 21.41c.39.39.9.59 1.41.59.51 0 1.02-.2 1.41-.59l7.78-7.78 2.81-2.81c.8-.78.8-2.07 0-2.86zM5.41 20L4 18.59l7.72-7.72 1.47 1.35L5.41 20z\"/>\n",
              "  </svg>\n",
              "      </button>\n",
              "      \n",
              "  <style>\n",
              "    .colab-df-container {\n",
              "      display:flex;\n",
              "      flex-wrap:wrap;\n",
              "      gap: 12px;\n",
              "    }\n",
              "\n",
              "    .colab-df-convert {\n",
              "      background-color: #E8F0FE;\n",
              "      border: none;\n",
              "      border-radius: 50%;\n",
              "      cursor: pointer;\n",
              "      display: none;\n",
              "      fill: #1967D2;\n",
              "      height: 32px;\n",
              "      padding: 0 0 0 0;\n",
              "      width: 32px;\n",
              "    }\n",
              "\n",
              "    .colab-df-convert:hover {\n",
              "      background-color: #E2EBFA;\n",
              "      box-shadow: 0px 1px 2px rgba(60, 64, 67, 0.3), 0px 1px 3px 1px rgba(60, 64, 67, 0.15);\n",
              "      fill: #174EA6;\n",
              "    }\n",
              "\n",
              "    [theme=dark] .colab-df-convert {\n",
              "      background-color: #3B4455;\n",
              "      fill: #D2E3FC;\n",
              "    }\n",
              "\n",
              "    [theme=dark] .colab-df-convert:hover {\n",
              "      background-color: #434B5C;\n",
              "      box-shadow: 0px 1px 3px 1px rgba(0, 0, 0, 0.15);\n",
              "      filter: drop-shadow(0px 1px 2px rgba(0, 0, 0, 0.3));\n",
              "      fill: #FFFFFF;\n",
              "    }\n",
              "  </style>\n",
              "\n",
              "      <script>\n",
              "        const buttonEl =\n",
              "          document.querySelector('#df-97cc0285-108b-4aae-97fe-97649872cf45 button.colab-df-convert');\n",
              "        buttonEl.style.display =\n",
              "          google.colab.kernel.accessAllowed ? 'block' : 'none';\n",
              "\n",
              "        async function convertToInteractive(key) {\n",
              "          const element = document.querySelector('#df-97cc0285-108b-4aae-97fe-97649872cf45');\n",
              "          const dataTable =\n",
              "            await google.colab.kernel.invokeFunction('convertToInteractive',\n",
              "                                                     [key], {});\n",
              "          if (!dataTable) return;\n",
              "\n",
              "          const docLinkHtml = 'Like what you see? Visit the ' +\n",
              "            '<a target=\"_blank\" href=https://colab.research.google.com/notebooks/data_table.ipynb>data table notebook</a>'\n",
              "            + ' to learn more about interactive tables.';\n",
              "          element.innerHTML = '';\n",
              "          dataTable['output_type'] = 'display_data';\n",
              "          await google.colab.output.renderOutput(dataTable, element);\n",
              "          const docLink = document.createElement('div');\n",
              "          docLink.innerHTML = docLinkHtml;\n",
              "          element.appendChild(docLink);\n",
              "        }\n",
              "      </script>\n",
              "    </div>\n",
              "  </div>\n",
              "  "
            ]
          },
          "metadata": {},
          "execution_count": 21
        }
      ]
    },
    {
      "cell_type": "markdown",
      "source": [
        "Kolom 'overall grade' yang ditambahkan menunjukan kategori nilai dari rata-rata nilai yang didapatkan siswa"
      ],
      "metadata": {
        "id": "vpTyN8D4TbuS"
      }
    },
    {
      "cell_type": "code",
      "source": [
        "fig, ax = plt.subplots(ncols=3, nrows=1, figsize=(20,10))\n",
        "index = 0\n",
        "ax = ax.flatten()\n",
        "\n",
        "for col in [\"math grade\", \"reading grade\", \"writing grade\"]:\n",
        "    sns.countplot(data[col], ax=ax[index], order=['A', 'B', 'C', 'D', 'F'], palette=\"mako\")\n",
        "    ax[index].set_xlabel(xlabel=col, size=12)\n",
        "    ax[index].set_ylabel(ylabel=\"Count\", size=12)\n",
        "    ax[index].set_ylim([0, 350])\n",
        "    # Annotate value labels to each grade\n",
        "    for i, value in enumerate(data[col].value_counts().sort_index()): \n",
        "        ax[index].annotate(value, xy=(i, value-10), color='white') \n",
        "    index += 1\n",
        "    \n",
        "fig.suptitle(\"Grades Distribution\", fontsize=20);"
      ],
      "metadata": {
        "colab": {
          "base_uri": "https://localhost:8080/",
          "height": 805
        },
        "id": "WlLe2hpVbvzI",
        "outputId": "40cb7cb5-5779-42d6-e3da-08f6bda0fa3b"
      },
      "execution_count": null,
      "outputs": [
        {
          "output_type": "stream",
          "name": "stderr",
          "text": [
            "/usr/local/lib/python3.7/dist-packages/seaborn/_decorators.py:43: FutureWarning: Pass the following variable as a keyword arg: x. From version 0.12, the only valid positional argument will be `data`, and passing other arguments without an explicit keyword will result in an error or misinterpretation.\n",
            "  FutureWarning\n",
            "/usr/local/lib/python3.7/dist-packages/seaborn/_decorators.py:43: FutureWarning: Pass the following variable as a keyword arg: x. From version 0.12, the only valid positional argument will be `data`, and passing other arguments without an explicit keyword will result in an error or misinterpretation.\n",
            "  FutureWarning\n",
            "/usr/local/lib/python3.7/dist-packages/seaborn/_decorators.py:43: FutureWarning: Pass the following variable as a keyword arg: x. From version 0.12, the only valid positional argument will be `data`, and passing other arguments without an explicit keyword will result in an error or misinterpretation.\n",
            "  FutureWarning\n"
          ]
        },
        {
          "output_type": "display_data",
          "data": {
            "text/plain": [
              "<Figure size 1440x720 with 3 Axes>"
            ],
            "image/png": "[encoded data removed]"
          },
          "metadata": {
            "needs_background": "light"
          }
        }
      ]
    },
    {
      "cell_type": "markdown",
      "source": [
        "*   Kategori terbanyak untuk math grade adalah kategori D\n",
        "*   Kategori terbanyak untuk reading grade adalah kategori C\n",
        "*   Kategori terbanyak untuk writing grade adalah kategori C\n",
        "\n",
        "\n",
        "\n"
      ],
      "metadata": {
        "id": "_zokmmB89AkI"
      }
    },
    {
      "cell_type": "code",
      "source": [
        "# Overall grade value count\n",
        "data['overall grade'].value_counts()"
      ],
      "metadata": {
        "colab": {
          "base_uri": "https://localhost:8080/"
        },
        "id": "6IZA0iQe7s1M",
        "outputId": "553c8e51-5dc3-4a0d-98cf-a5131d4fa7b9"
      },
      "execution_count": null,
      "outputs": [
        {
          "output_type": "execute_result",
          "data": {
            "text/plain": [
              "C    261\n",
              "D    256\n",
              "E    182\n",
              "B    146\n",
              "F    103\n",
              "A     52\n",
              "Name: overall grade, dtype: int64"
            ]
          },
          "metadata": {},
          "execution_count": 23
        }
      ]
    },
    {
      "cell_type": "code",
      "source": [
        "# Overall grade total visualization\n",
        "fig, ax = plt.subplots(figsize=(15,10))\n",
        "sns.countplot(x=\"overall grade\", data = data, order=['A','B','C','D','E','F'],  palette=\"mako\")\n",
        "plt.show()"
      ],
      "metadata": {
        "colab": {
          "base_uri": "https://localhost:8080/",
          "height": 606
        },
        "id": "Y8dv4WW_RKuN",
        "outputId": "5bbf8a07-3a02-4665-f9dc-79e0b42a2f41"
      },
      "execution_count": null,
      "outputs": [
        {
          "output_type": "display_data",
          "data": {
            "text/plain": [
              "<Figure size 1080x720 with 1 Axes>"
            ],
            "image/png": "[encoded data removed]"
          },
          "metadata": {
            "needs_background": "light"
          }
        }
      ]
    },
    {
      "cell_type": "markdown",
      "source": [
        "Kategori nilai rerata yang diperoleh siswa terbanyak adalah C, lalu kategori D, E, B, F dan A"
      ],
      "metadata": {
        "id": "Etb097jT763q"
      }
    },
    {
      "cell_type": "code",
      "source": [
        "# Values ​​for each subject and the average of all subjects by racial group\n",
        "fig , axes = plt.subplots(1,4, figsize=(20,10))\n",
        "sns.barplot(data = data, x='race/ethnicity', y='math score',ax = axes[0],ci=None,palette='mako')\n",
        "axes[0].set_title(\"Math score\")\n",
        "sns.barplot(data = data, x='race/ethnicity', y='reading score',ax = axes[1],ci=None,palette='mako')\n",
        "axes[1].set_title(\"Reading score\")\n",
        "sns.barplot(data = data, x='race/ethnicity', y='writing score',ax = axes[2],ci=None,palette='mako')\n",
        "axes[2].set_title(\"Writing score\")\n",
        "sns.barplot(data = data, x='race/ethnicity', y='average',ax = axes[3],ci=None,palette='mako')\n",
        "axes[3].set_title(\"Total score average\")\n",
        "\n",
        "for i in range(0,4):\n",
        "    axes[i].set_ylim(55,75)\n",
        "\n",
        "plt.tight_layout(pad=1.0)\n",
        "plt.show()"
      ],
      "metadata": {
        "colab": {
          "base_uri": "https://localhost:8080/",
          "height": 636
        },
        "id": "24QoJkKhVCxa",
        "outputId": "43c00ce5-ebda-44ac-c2ba-d4c2a230e28a"
      },
      "execution_count": null,
      "outputs": [
        {
          "output_type": "display_data",
          "data": {
            "text/plain": [
              "<Figure size 1440x720 with 4 Axes>"
            ],
            "image/png": "[encoded data removed]"
          },
          "metadata": {
            "needs_background": "light"
          }
        }
      ]
    },
    {
      "cell_type": "markdown",
      "source": [
        "Grup E adalah kelompok etnis terbaik untuk math score, reading score, writing score maupun total score. Disusul oleh grup D, C, B dan A untuk seluruh jenis penilaian.\n",
        "\n"
      ],
      "metadata": {
        "id": "fR-TqIq1_W9I"
      }
    },
    {
      "cell_type": "code",
      "source": [
        "# Parental level of education effect on subject score\n",
        "fig , axes = plt.subplots(1,4, figsize=(25,10),sharey=True)\n",
        "sns.barplot(data = data, y='parental level of education', x='math score',ax = axes[0],ci=None,palette='mako')\n",
        "axes[0].set_title(\"Math score\")\n",
        "sns.barplot(data = data, y='parental level of education', x='reading score',ax = axes[1],ci=None,palette='mako')\n",
        "axes[1].set_title(\"Reading score\")\n",
        "sns.barplot(data = data, y='parental level of education', x='writing score',ax = axes[2],ci=None,palette='mako')\n",
        "axes[2].set_title(\"Writing score\")\n",
        "sns.barplot(data = data, y='parental level of education', x='average',ax = axes[3],ci=None,palette='mako')\n",
        "axes[3].set_title(\"Total Score Average\")\n",
        "for i in range(0,4):\n",
        "    axes[i].set_xlim(60,77.5)\n",
        "\n",
        "plt.show()"
      ],
      "metadata": {
        "colab": {
          "base_uri": "https://localhost:8080/",
          "height": 510
        },
        "id": "_nPgpomYajjK",
        "outputId": "d7483de4-4173-4878-aacc-c16aeeb9adc0"
      },
      "execution_count": null,
      "outputs": [
        {
          "output_type": "display_data",
          "data": {
            "text/plain": [
              "<Figure size 1800x720 with 4 Axes>"
            ],
            "image/png": "[encoded data removed]"
          },
          "metadata": {
            "needs_background": "light"
          }
        }
      ]
    },
    {
      "cell_type": "markdown",
      "source": [
        "- Tingkat pendidikan orang tua berpengaruh terhadap nilai anak.\n",
        "- Gelar master tertinggi dalam kelompok, Tetapi beberapa sekolah menengah lebih tinggi dari sekolah menengah lainnya"
      ],
      "metadata": {
        "id": "zKL4rTXPAtMs"
      }
    },
    {
      "cell_type": "markdown",
      "source": [
        "**Ketentuan : Nilai rata-rata yang memiliki kategori D, E, F dinyatakan gagal** "
      ],
      "metadata": {
        "id": "zm8odYOJBGT-"
      }
    },
    {
      "cell_type": "code",
      "source": [
        "# Define Function\n",
        "def overall_status(overall_grade):\n",
        "  if overall_grade == 'F':\n",
        "    return 0\n",
        "  elif overall_grade == 'E':\n",
        "    return 0\n",
        "  elif overall_grade == 'D':\n",
        "    return 0\n",
        "  else :\n",
        "    return 1\n",
        "\n",
        "data[\"overall status\"] = data.apply(lambda x : overall_status(x[\"overall grade\"]), axis=1)"
      ],
      "metadata": {
        "id": "XY9stBy7eH8t"
      },
      "execution_count": null,
      "outputs": []
    },
    {
      "cell_type": "markdown",
      "source": [
        "*   1 berarti siswa lulus\n",
        "*   0 berarti siswa tidak lulus\n",
        "\n"
      ],
      "metadata": {
        "id": "JpWWwt1PYM0V"
      }
    },
    {
      "cell_type": "code",
      "source": [
        "# See the new data\n",
        "data.head()"
      ],
      "metadata": {
        "colab": {
          "base_uri": "https://localhost:8080/",
          "height": 337
        },
        "id": "ZMYvqEoIiMrP",
        "outputId": "f82247b9-7157-44b0-d971-c0565b1369f3"
      },
      "execution_count": null,
      "outputs": [
        {
          "output_type": "execute_result",
          "data": {
            "text/plain": [
              "   gender race/ethnicity parental level of education         lunch  \\\n",
              "0  female        group B           bachelor's degree      standard   \n",
              "1  female        group C                some college      standard   \n",
              "2  female        group B             master's degree      standard   \n",
              "3    male        group A          associate's degree  free/reduced   \n",
              "4    male        group C                some college      standard   \n",
              "\n",
              "  test preparation course  math score  reading score  writing score  \\\n",
              "0                    none          72             72             74   \n",
              "1               completed          69             90             88   \n",
              "2                    none          90             95             93   \n",
              "3                    none          47             57             44   \n",
              "4                    none          76             78             75   \n",
              "\n",
              "  math grade reading grade writing grade  total scores    average  \\\n",
              "0          C             C             C           218  72.666667   \n",
              "1          D             A             B           247  82.333333   \n",
              "2          A             A             A           278  92.666667   \n",
              "3          F             E             F           148  49.333333   \n",
              "4          C             C             C           229  76.333333   \n",
              "\n",
              "  overall grade  overall status  \n",
              "0             C               1  \n",
              "1             B               1  \n",
              "2             A               1  \n",
              "3             F               0  \n",
              "4             C               1  "
            ],
            "text/html": [
              "\n",
              "  <div id=\"df-31a18b65-3a2f-4772-a977-fc50e8c3339e\">\n",
              "    <div class=\"colab-df-container\">\n",
              "      <div>\n",
              "<style scoped>\n",
              "    .dataframe tbody tr th:only-of-type {\n",
              "        vertical-align: middle;\n",
              "    }\n",
              "\n",
              "    .dataframe tbody tr th {\n",
              "        vertical-align: top;\n",
              "    }\n",
              "\n",
              "    .dataframe thead th {\n",
              "        text-align: right;\n",
              "    }\n",
              "</style>\n",
              "<table border=\"1\" class=\"dataframe\">\n",
              "  <thead>\n",
              "    <tr style=\"text-align: right;\">\n",
              "      <th></th>\n",
              "      <th>gender</th>\n",
              "      <th>race/ethnicity</th>\n",
              "      <th>parental level of education</th>\n",
              "      <th>lunch</th>\n",
              "      <th>test preparation course</th>\n",
              "      <th>math score</th>\n",
              "      <th>reading score</th>\n",
              "      <th>writing score</th>\n",
              "      <th>math grade</th>\n",
              "      <th>reading grade</th>\n",
              "      <th>writing grade</th>\n",
              "      <th>total scores</th>\n",
              "      <th>average</th>\n",
              "      <th>overall grade</th>\n",
              "      <th>overall status</th>\n",
              "    </tr>\n",
              "  </thead>\n",
              "  <tbody>\n",
              "    <tr>\n",
              "      <th>0</th>\n",
              "      <td>female</td>\n",
              "      <td>group B</td>\n",
              "      <td>bachelor's degree</td>\n",
              "      <td>standard</td>\n",
              "      <td>none</td>\n",
              "      <td>72</td>\n",
              "      <td>72</td>\n",
              "      <td>74</td>\n",
              "      <td>C</td>\n",
              "      <td>C</td>\n",
              "      <td>C</td>\n",
              "      <td>218</td>\n",
              "      <td>72.666667</td>\n",
              "      <td>C</td>\n",
              "      <td>1</td>\n",
              "    </tr>\n",
              "    <tr>\n",
              "      <th>1</th>\n",
              "      <td>female</td>\n",
              "      <td>group C</td>\n",
              "      <td>some college</td>\n",
              "      <td>standard</td>\n",
              "      <td>completed</td>\n",
              "      <td>69</td>\n",
              "      <td>90</td>\n",
              "      <td>88</td>\n",
              "      <td>D</td>\n",
              "      <td>A</td>\n",
              "      <td>B</td>\n",
              "      <td>247</td>\n",
              "      <td>82.333333</td>\n",
              "      <td>B</td>\n",
              "      <td>1</td>\n",
              "    </tr>\n",
              "    <tr>\n",
              "      <th>2</th>\n",
              "      <td>female</td>\n",
              "      <td>group B</td>\n",
              "      <td>master's degree</td>\n",
              "      <td>standard</td>\n",
              "      <td>none</td>\n",
              "      <td>90</td>\n",
              "      <td>95</td>\n",
              "      <td>93</td>\n",
              "      <td>A</td>\n",
              "      <td>A</td>\n",
              "      <td>A</td>\n",
              "      <td>278</td>\n",
              "      <td>92.666667</td>\n",
              "      <td>A</td>\n",
              "      <td>1</td>\n",
              "    </tr>\n",
              "    <tr>\n",
              "      <th>3</th>\n",
              "      <td>male</td>\n",
              "      <td>group A</td>\n",
              "      <td>associate's degree</td>\n",
              "      <td>free/reduced</td>\n",
              "      <td>none</td>\n",
              "      <td>47</td>\n",
              "      <td>57</td>\n",
              "      <td>44</td>\n",
              "      <td>F</td>\n",
              "      <td>E</td>\n",
              "      <td>F</td>\n",
              "      <td>148</td>\n",
              "      <td>49.333333</td>\n",
              "      <td>F</td>\n",
              "      <td>0</td>\n",
              "    </tr>\n",
              "    <tr>\n",
              "      <th>4</th>\n",
              "      <td>male</td>\n",
              "      <td>group C</td>\n",
              "      <td>some college</td>\n",
              "      <td>standard</td>\n",
              "      <td>none</td>\n",
              "      <td>76</td>\n",
              "      <td>78</td>\n",
              "      <td>75</td>\n",
              "      <td>C</td>\n",
              "      <td>C</td>\n",
              "      <td>C</td>\n",
              "      <td>229</td>\n",
              "      <td>76.333333</td>\n",
              "      <td>C</td>\n",
              "      <td>1</td>\n",
              "    </tr>\n",
              "  </tbody>\n",
              "</table>\n",
              "</div>\n",
              "      <button class=\"colab-df-convert\" onclick=\"convertToInteractive('df-31a18b65-3a2f-4772-a977-fc50e8c3339e')\"\n",
              "              title=\"Convert this dataframe to an interactive table.\"\n",
              "              style=\"display:none;\">\n",
              "        \n",
              "  <svg xmlns=\"http://www.w3.org/2000/svg\" height=\"24px\"viewBox=\"0 0 24 24\"\n",
              "       width=\"24px\">\n",
              "    <path d=\"M0 0h24v24H0V0z\" fill=\"none\"/>\n",
              "    <path d=\"M18.56 5.44l.94 2.06.94-2.06 2.06-.94-2.06-.94-.94-2.06-.94 2.06-2.06.94zm-11 1L8.5 8.5l.94-2.06 2.06-.94-2.06-.94L8.5 2.5l-.94 2.06-2.06.94zm10 10l.94 2.06.94-2.06 2.06-.94-2.06-.94-.94-2.06-.94 2.06-2.06.94z\"/><path d=\"M17.41 7.96l-1.37-1.37c-.4-.4-.92-.59-1.43-.59-.52 0-1.04.2-1.43.59L10.3 9.45l-7.72 7.72c-.78.78-.78 2.05 0 2.83L4 21.41c.39.39.9.59 1.41.59.51 0 1.02-.2 1.41-.59l7.78-7.78 2.81-2.81c.8-.78.8-2.07 0-2.86zM5.41 20L4 18.59l7.72-7.72 1.47 1.35L5.41 20z\"/>\n",
              "  </svg>\n",
              "      </button>\n",
              "      \n",
              "  <style>\n",
              "    .colab-df-container {\n",
              "      display:flex;\n",
              "      flex-wrap:wrap;\n",
              "      gap: 12px;\n",
              "    }\n",
              "\n",
              "    .colab-df-convert {\n",
              "      background-color: #E8F0FE;\n",
              "      border: none;\n",
              "      border-radius: 50%;\n",
              "      cursor: pointer;\n",
              "      display: none;\n",
              "      fill: #1967D2;\n",
              "      height: 32px;\n",
              "      padding: 0 0 0 0;\n",
              "      width: 32px;\n",
              "    }\n",
              "\n",
              "    .colab-df-convert:hover {\n",
              "      background-color: #E2EBFA;\n",
              "      box-shadow: 0px 1px 2px rgba(60, 64, 67, 0.3), 0px 1px 3px 1px rgba(60, 64, 67, 0.15);\n",
              "      fill: #174EA6;\n",
              "    }\n",
              "\n",
              "    [theme=dark] .colab-df-convert {\n",
              "      background-color: #3B4455;\n",
              "      fill: #D2E3FC;\n",
              "    }\n",
              "\n",
              "    [theme=dark] .colab-df-convert:hover {\n",
              "      background-color: #434B5C;\n",
              "      box-shadow: 0px 1px 3px 1px rgba(0, 0, 0, 0.15);\n",
              "      filter: drop-shadow(0px 1px 2px rgba(0, 0, 0, 0.3));\n",
              "      fill: #FFFFFF;\n",
              "    }\n",
              "  </style>\n",
              "\n",
              "      <script>\n",
              "        const buttonEl =\n",
              "          document.querySelector('#df-31a18b65-3a2f-4772-a977-fc50e8c3339e button.colab-df-convert');\n",
              "        buttonEl.style.display =\n",
              "          google.colab.kernel.accessAllowed ? 'block' : 'none';\n",
              "\n",
              "        async function convertToInteractive(key) {\n",
              "          const element = document.querySelector('#df-31a18b65-3a2f-4772-a977-fc50e8c3339e');\n",
              "          const dataTable =\n",
              "            await google.colab.kernel.invokeFunction('convertToInteractive',\n",
              "                                                     [key], {});\n",
              "          if (!dataTable) return;\n",
              "\n",
              "          const docLinkHtml = 'Like what you see? Visit the ' +\n",
              "            '<a target=\"_blank\" href=https://colab.research.google.com/notebooks/data_table.ipynb>data table notebook</a>'\n",
              "            + ' to learn more about interactive tables.';\n",
              "          element.innerHTML = '';\n",
              "          dataTable['output_type'] = 'display_data';\n",
              "          await google.colab.output.renderOutput(dataTable, element);\n",
              "          const docLink = document.createElement('div');\n",
              "          docLink.innerHTML = docLinkHtml;\n",
              "          element.appendChild(docLink);\n",
              "        }\n",
              "      </script>\n",
              "    </div>\n",
              "  </div>\n",
              "  "
            ]
          },
          "metadata": {},
          "execution_count": 29
        }
      ]
    },
    {
      "cell_type": "markdown",
      "source": [
        "kolom overall status = menunjukan apakah siswa tersebut lulus atau tidak"
      ],
      "metadata": {
        "id": "JOv3MZrQYF78"
      }
    },
    {
      "cell_type": "code",
      "source": [
        "# Value count of overall status\n",
        "data['overall status'].value_counts()"
      ],
      "metadata": {
        "colab": {
          "base_uri": "https://localhost:8080/"
        },
        "id": "BsSuTI0FX77B",
        "outputId": "40f6a410-984b-4fa7-da00-a04bcaabcf90"
      },
      "execution_count": null,
      "outputs": [
        {
          "output_type": "execute_result",
          "data": {
            "text/plain": [
              "0    541\n",
              "1    459\n",
              "Name: overall status, dtype: int64"
            ]
          },
          "metadata": {},
          "execution_count": 34
        }
      ]
    },
    {
      "cell_type": "markdown",
      "source": [
        "Berdasarkan ketentuan yang dibuat terdapat 541 siswa yang tidak lulus dan sebanyak 459 siswa yang lulus."
      ],
      "metadata": {
        "id": "k0FcxVISZBsG"
      }
    },
    {
      "cell_type": "code",
      "source": [
        "# Heatmap correlation\n",
        "grid_kws = {\"height_ratios\": (.9, .05), \"hspace\": .25}\n",
        "f, (ax, cbar_ax) = plt.subplots(2, gridspec_kw=grid_kws, figsize=(15,10))\n",
        "sns.heatmap(data[[\"math score\", \"reading score\", \"writing score\", \"total scores\", \"average\", \"overall status\"]].corr(),\n",
        "            annot= True,\n",
        "            fmt = \".2f\",\n",
        "            vmin = 0,\n",
        "            vmax = 1,\n",
        "            ax=ax,\n",
        "            cbar_ax=cbar_ax,\n",
        "            cbar_kws={\"orientation\": \"horizontal\"},\n",
        "            cmap='mako')\n",
        "ax.set_title('The Different Scores Correlation', size = 15);"
      ],
      "metadata": {
        "colab": {
          "base_uri": "https://localhost:8080/",
          "height": 609
        },
        "id": "JCzXUYjFidHT",
        "outputId": "93929a04-d2d3-47bd-e528-712a3f4f3087"
      },
      "execution_count": null,
      "outputs": [
        {
          "output_type": "display_data",
          "data": {
            "text/plain": [
              "<Figure size 1080x720 with 2 Axes>"
            ],
            "image/png": "[encoded data removed]"
          },
          "metadata": {
            "needs_background": "light"
          }
        }
      ]
    },
    {
      "cell_type": "markdown",
      "source": [
        "Korelasi antar ketiga nilai siswa, total nilai, rata-rata nilai maupun overall status kelulusan siswa berkorelasi dengan baik dan kuat."
      ],
      "metadata": {
        "id": "avL4lQioZxw-"
      }
    },
    {
      "cell_type": "code",
      "source": [
        "# Pairplot\n",
        "g = sns.pairplot(data[[\"math score\", \"reading score\", \"writing score\", \"gender\"]], hue=\"gender\", height=4, palette='mako');\n",
        "g.fig.suptitle(\"How are the different scores related?\", size=20, y=1.05);"
      ],
      "metadata": {
        "colab": {
          "base_uri": "https://localhost:8080/",
          "height": 924
        },
        "id": "XdLh4bNBi7bS",
        "outputId": "74a7905c-2426-4f7b-de52-237b0770cec9"
      },
      "execution_count": null,
      "outputs": [
        {
          "output_type": "display_data",
          "data": {
            "text/plain": [
              "<Figure size 934.5x864 with 12 Axes>"
            ],
            "image/png": "[encoded data removed]"
          },
          "metadata": {
            "needs_background": "light"
          }
        }
      ]
    },
    {
      "cell_type": "markdown",
      "source": [
        "Ketiga nilai siswa baik matematika, membaca maupun menulis meiliki nilai yang berkorelasi dengan baik baik. Selain itu, dapat dilihat bahwa dengan pembeda gender, data yang diperoleh terdistribusi dengan baik pula."
      ],
      "metadata": {
        "id": "I_FVPKWKbKDG"
      }
    },
    {
      "cell_type": "markdown",
      "source": [
        "Rangkuman:\n",
        "*   Distribusi nilai pria lebih merata ditengah dibandingkan wanita yang ke arah pinggir\n",
        "*   Siswa laki-laki lebih unggul untuk matematika, sedangkan siswa perempuan lebih unggul untuk membaca dan menulis\n",
        "*   Siswa untuk pelajaran matematika paling banyak mendapatkan Grade D, pelajaran membaca paling banyak mendapatkan nilai C dan pelajaran menulis kebanyakan mendapatkan nilai C\n",
        "*   Secara kesuluruhan grade yang paling banyak diperoleh siswa setelah dirata-ratakan nilainya adalah C\n",
        "*   Grup Etnis/Ras dengan nilai terbaik adalah Grup E dan disusul oleh Grup D\n",
        "*   Kebanyakan orang tua siswa sampai pada tingkatan pendidikan S2 atau master\n",
        "*   Jumlah siswa yang gagal secara rata-rata lebih banyak daripada yang lulus\n",
        "*   Korelasi antar sesama nilai per pelajaran, total kesuluruhan, rata-rata nilai semuanya dan status kelulusan adalah baik.\n"
      ],
      "metadata": {
        "id": "fcVpemMC0Iod"
      }
    },
    {
      "cell_type": "markdown",
      "source": [
        "# Machiene Learning Model"
      ],
      "metadata": {
        "id": "_G0kYnU93EeG"
      }
    },
    {
      "cell_type": "markdown",
      "source": [
        "## KNN"
      ],
      "metadata": {
        "id": "Zm5fO5Gbx0Z0"
      }
    },
    {
      "cell_type": "code",
      "source": [
        "# Show dataset\n",
        "data"
      ],
      "metadata": {
        "colab": {
          "base_uri": "https://localhost:8080/",
          "height": 572
        },
        "id": "bvnmX9kstBle",
        "outputId": "890e8e8b-4a21-48ae-d81c-91033f7eb98f"
      },
      "execution_count": null,
      "outputs": [
        {
          "output_type": "execute_result",
          "data": {
            "text/plain": [
              "     gender race/ethnicity parental level of education         lunch  \\\n",
              "0    female        group B           bachelor's degree      standard   \n",
              "1    female        group C                some college      standard   \n",
              "2    female        group B             master's degree      standard   \n",
              "3      male        group A          associate's degree  free/reduced   \n",
              "4      male        group C                some college      standard   \n",
              "..      ...            ...                         ...           ...   \n",
              "995  female        group E             master's degree      standard   \n",
              "996    male        group C                 high school  free/reduced   \n",
              "997  female        group C                 high school  free/reduced   \n",
              "998  female        group D                some college      standard   \n",
              "999  female        group D                some college  free/reduced   \n",
              "\n",
              "    test preparation course  math score  reading score  writing score  \\\n",
              "0                      none          72             72             74   \n",
              "1                 completed          69             90             88   \n",
              "2                      none          90             95             93   \n",
              "3                      none          47             57             44   \n",
              "4                      none          76             78             75   \n",
              "..                      ...         ...            ...            ...   \n",
              "995               completed          88             99             95   \n",
              "996                    none          62             55             55   \n",
              "997               completed          59             71             65   \n",
              "998               completed          68             78             77   \n",
              "999                    none          77             86             86   \n",
              "\n",
              "    math grade reading grade writing grade  total scores    average  \\\n",
              "0            C             C             C           218  72.666667   \n",
              "1            D             A             B           247  82.333333   \n",
              "2            A             A             A           278  92.666667   \n",
              "3            F             E             F           148  49.333333   \n",
              "4            C             C             C           229  76.333333   \n",
              "..         ...           ...           ...           ...        ...   \n",
              "995          B             A             A           282  94.000000   \n",
              "996          D             E             E           172  57.333333   \n",
              "997          E             C             D           195  65.000000   \n",
              "998          D             C             C           223  74.333333   \n",
              "999          C             B             B           249  83.000000   \n",
              "\n",
              "    overall grade  overall status  \n",
              "0               C               1  \n",
              "1               B               1  \n",
              "2               A               1  \n",
              "3               F               0  \n",
              "4               C               1  \n",
              "..            ...             ...  \n",
              "995             A               1  \n",
              "996             E               0  \n",
              "997             D               0  \n",
              "998             C               1  \n",
              "999             B               1  \n",
              "\n",
              "[1000 rows x 15 columns]"
            ],
            "text/html": [
              "\n",
              "  <div id=\"df-6690bb27-1fc2-496e-b4f6-4eca82bb2ba9\">\n",
              "    <div class=\"colab-df-container\">\n",
              "      <div>\n",
              "<style scoped>\n",
              "    .dataframe tbody tr th:only-of-type {\n",
              "        vertical-align: middle;\n",
              "    }\n",
              "\n",
              "    .dataframe tbody tr th {\n",
              "        vertical-align: top;\n",
              "    }\n",
              "\n",
              "    .dataframe thead th {\n",
              "        text-align: right;\n",
              "    }\n",
              "</style>\n",
              "<table border=\"1\" class=\"dataframe\">\n",
              "  <thead>\n",
              "    <tr style=\"text-align: right;\">\n",
              "      <th></th>\n",
              "      <th>gender</th>\n",
              "      <th>race/ethnicity</th>\n",
              "      <th>parental level of education</th>\n",
              "      <th>lunch</th>\n",
              "      <th>test preparation course</th>\n",
              "      <th>math score</th>\n",
              "      <th>reading score</th>\n",
              "      <th>writing score</th>\n",
              "      <th>math grade</th>\n",
              "      <th>reading grade</th>\n",
              "      <th>writing grade</th>\n",
              "      <th>total scores</th>\n",
              "      <th>average</th>\n",
              "      <th>overall grade</th>\n",
              "      <th>overall status</th>\n",
              "    </tr>\n",
              "  </thead>\n",
              "  <tbody>\n",
              "    <tr>\n",
              "      <th>0</th>\n",
              "      <td>female</td>\n",
              "      <td>group B</td>\n",
              "      <td>bachelor's degree</td>\n",
              "      <td>standard</td>\n",
              "      <td>none</td>\n",
              "      <td>72</td>\n",
              "      <td>72</td>\n",
              "      <td>74</td>\n",
              "      <td>C</td>\n",
              "      <td>C</td>\n",
              "      <td>C</td>\n",
              "      <td>218</td>\n",
              "      <td>72.666667</td>\n",
              "      <td>C</td>\n",
              "      <td>1</td>\n",
              "    </tr>\n",
              "    <tr>\n",
              "      <th>1</th>\n",
              "      <td>female</td>\n",
              "      <td>group C</td>\n",
              "      <td>some college</td>\n",
              "      <td>standard</td>\n",
              "      <td>completed</td>\n",
              "      <td>69</td>\n",
              "      <td>90</td>\n",
              "      <td>88</td>\n",
              "      <td>D</td>\n",
              "      <td>A</td>\n",
              "      <td>B</td>\n",
              "      <td>247</td>\n",
              "      <td>82.333333</td>\n",
              "      <td>B</td>\n",
              "      <td>1</td>\n",
              "    </tr>\n",
              "    <tr>\n",
              "      <th>2</th>\n",
              "      <td>female</td>\n",
              "      <td>group B</td>\n",
              "      <td>master's degree</td>\n",
              "      <td>standard</td>\n",
              "      <td>none</td>\n",
              "      <td>90</td>\n",
              "      <td>95</td>\n",
              "      <td>93</td>\n",
              "      <td>A</td>\n",
              "      <td>A</td>\n",
              "      <td>A</td>\n",
              "      <td>278</td>\n",
              "      <td>92.666667</td>\n",
              "      <td>A</td>\n",
              "      <td>1</td>\n",
              "    </tr>\n",
              "    <tr>\n",
              "      <th>3</th>\n",
              "      <td>male</td>\n",
              "      <td>group A</td>\n",
              "      <td>associate's degree</td>\n",
              "      <td>free/reduced</td>\n",
              "      <td>none</td>\n",
              "      <td>47</td>\n",
              "      <td>57</td>\n",
              "      <td>44</td>\n",
              "      <td>F</td>\n",
              "      <td>E</td>\n",
              "      <td>F</td>\n",
              "      <td>148</td>\n",
              "      <td>49.333333</td>\n",
              "      <td>F</td>\n",
              "      <td>0</td>\n",
              "    </tr>\n",
              "    <tr>\n",
              "      <th>4</th>\n",
              "      <td>male</td>\n",
              "      <td>group C</td>\n",
              "      <td>some college</td>\n",
              "      <td>standard</td>\n",
              "      <td>none</td>\n",
              "      <td>76</td>\n",
              "      <td>78</td>\n",
              "      <td>75</td>\n",
              "      <td>C</td>\n",
              "      <td>C</td>\n",
              "      <td>C</td>\n",
              "      <td>229</td>\n",
              "      <td>76.333333</td>\n",
              "      <td>C</td>\n",
              "      <td>1</td>\n",
              "    </tr>\n",
              "    <tr>\n",
              "      <th>...</th>\n",
              "      <td>...</td>\n",
              "      <td>...</td>\n",
              "      <td>...</td>\n",
              "      <td>...</td>\n",
              "      <td>...</td>\n",
              "      <td>...</td>\n",
              "      <td>...</td>\n",
              "      <td>...</td>\n",
              "      <td>...</td>\n",
              "      <td>...</td>\n",
              "      <td>...</td>\n",
              "      <td>...</td>\n",
              "      <td>...</td>\n",
              "      <td>...</td>\n",
              "      <td>...</td>\n",
              "    </tr>\n",
              "    <tr>\n",
              "      <th>995</th>\n",
              "      <td>female</td>\n",
              "      <td>group E</td>\n",
              "      <td>master's degree</td>\n",
              "      <td>standard</td>\n",
              "      <td>completed</td>\n",
              "      <td>88</td>\n",
              "      <td>99</td>\n",
              "      <td>95</td>\n",
              "      <td>B</td>\n",
              "      <td>A</td>\n",
              "      <td>A</td>\n",
              "      <td>282</td>\n",
              "      <td>94.000000</td>\n",
              "      <td>A</td>\n",
              "      <td>1</td>\n",
              "    </tr>\n",
              "    <tr>\n",
              "      <th>996</th>\n",
              "      <td>male</td>\n",
              "      <td>group C</td>\n",
              "      <td>high school</td>\n",
              "      <td>free/reduced</td>\n",
              "      <td>none</td>\n",
              "      <td>62</td>\n",
              "      <td>55</td>\n",
              "      <td>55</td>\n",
              "      <td>D</td>\n",
              "      <td>E</td>\n",
              "      <td>E</td>\n",
              "      <td>172</td>\n",
              "      <td>57.333333</td>\n",
              "      <td>E</td>\n",
              "      <td>0</td>\n",
              "    </tr>\n",
              "    <tr>\n",
              "      <th>997</th>\n",
              "      <td>female</td>\n",
              "      <td>group C</td>\n",
              "      <td>high school</td>\n",
              "      <td>free/reduced</td>\n",
              "      <td>completed</td>\n",
              "      <td>59</td>\n",
              "      <td>71</td>\n",
              "      <td>65</td>\n",
              "      <td>E</td>\n",
              "      <td>C</td>\n",
              "      <td>D</td>\n",
              "      <td>195</td>\n",
              "      <td>65.000000</td>\n",
              "      <td>D</td>\n",
              "      <td>0</td>\n",
              "    </tr>\n",
              "    <tr>\n",
              "      <th>998</th>\n",
              "      <td>female</td>\n",
              "      <td>group D</td>\n",
              "      <td>some college</td>\n",
              "      <td>standard</td>\n",
              "      <td>completed</td>\n",
              "      <td>68</td>\n",
              "      <td>78</td>\n",
              "      <td>77</td>\n",
              "      <td>D</td>\n",
              "      <td>C</td>\n",
              "      <td>C</td>\n",
              "      <td>223</td>\n",
              "      <td>74.333333</td>\n",
              "      <td>C</td>\n",
              "      <td>1</td>\n",
              "    </tr>\n",
              "    <tr>\n",
              "      <th>999</th>\n",
              "      <td>female</td>\n",
              "      <td>group D</td>\n",
              "      <td>some college</td>\n",
              "      <td>free/reduced</td>\n",
              "      <td>none</td>\n",
              "      <td>77</td>\n",
              "      <td>86</td>\n",
              "      <td>86</td>\n",
              "      <td>C</td>\n",
              "      <td>B</td>\n",
              "      <td>B</td>\n",
              "      <td>249</td>\n",
              "      <td>83.000000</td>\n",
              "      <td>B</td>\n",
              "      <td>1</td>\n",
              "    </tr>\n",
              "  </tbody>\n",
              "</table>\n",
              "<p>1000 rows × 15 columns</p>\n",
              "</div>\n",
              "      <button class=\"colab-df-convert\" onclick=\"convertToInteractive('df-6690bb27-1fc2-496e-b4f6-4eca82bb2ba9')\"\n",
              "              title=\"Convert this dataframe to an interactive table.\"\n",
              "              style=\"display:none;\">\n",
              "        \n",
              "  <svg xmlns=\"http://www.w3.org/2000/svg\" height=\"24px\"viewBox=\"0 0 24 24\"\n",
              "       width=\"24px\">\n",
              "    <path d=\"M0 0h24v24H0V0z\" fill=\"none\"/>\n",
              "    <path d=\"M18.56 5.44l.94 2.06.94-2.06 2.06-.94-2.06-.94-.94-2.06-.94 2.06-2.06.94zm-11 1L8.5 8.5l.94-2.06 2.06-.94-2.06-.94L8.5 2.5l-.94 2.06-2.06.94zm10 10l.94 2.06.94-2.06 2.06-.94-2.06-.94-.94-2.06-.94 2.06-2.06.94z\"/><path d=\"M17.41 7.96l-1.37-1.37c-.4-.4-.92-.59-1.43-.59-.52 0-1.04.2-1.43.59L10.3 9.45l-7.72 7.72c-.78.78-.78 2.05 0 2.83L4 21.41c.39.39.9.59 1.41.59.51 0 1.02-.2 1.41-.59l7.78-7.78 2.81-2.81c.8-.78.8-2.07 0-2.86zM5.41 20L4 18.59l7.72-7.72 1.47 1.35L5.41 20z\"/>\n",
              "  </svg>\n",
              "      </button>\n",
              "      \n",
              "  <style>\n",
              "    .colab-df-container {\n",
              "      display:flex;\n",
              "      flex-wrap:wrap;\n",
              "      gap: 12px;\n",
              "    }\n",
              "\n",
              "    .colab-df-convert {\n",
              "      background-color: #E8F0FE;\n",
              "      border: none;\n",
              "      border-radius: 50%;\n",
              "      cursor: pointer;\n",
              "      display: none;\n",
              "      fill: #1967D2;\n",
              "      height: 32px;\n",
              "      padding: 0 0 0 0;\n",
              "      width: 32px;\n",
              "    }\n",
              "\n",
              "    .colab-df-convert:hover {\n",
              "      background-color: #E2EBFA;\n",
              "      box-shadow: 0px 1px 2px rgba(60, 64, 67, 0.3), 0px 1px 3px 1px rgba(60, 64, 67, 0.15);\n",
              "      fill: #174EA6;\n",
              "    }\n",
              "\n",
              "    [theme=dark] .colab-df-convert {\n",
              "      background-color: #3B4455;\n",
              "      fill: #D2E3FC;\n",
              "    }\n",
              "\n",
              "    [theme=dark] .colab-df-convert:hover {\n",
              "      background-color: #434B5C;\n",
              "      box-shadow: 0px 1px 3px 1px rgba(0, 0, 0, 0.15);\n",
              "      filter: drop-shadow(0px 1px 2px rgba(0, 0, 0, 0.3));\n",
              "      fill: #FFFFFF;\n",
              "    }\n",
              "  </style>\n",
              "\n",
              "      <script>\n",
              "        const buttonEl =\n",
              "          document.querySelector('#df-6690bb27-1fc2-496e-b4f6-4eca82bb2ba9 button.colab-df-convert');\n",
              "        buttonEl.style.display =\n",
              "          google.colab.kernel.accessAllowed ? 'block' : 'none';\n",
              "\n",
              "        async function convertToInteractive(key) {\n",
              "          const element = document.querySelector('#df-6690bb27-1fc2-496e-b4f6-4eca82bb2ba9');\n",
              "          const dataTable =\n",
              "            await google.colab.kernel.invokeFunction('convertToInteractive',\n",
              "                                                     [key], {});\n",
              "          if (!dataTable) return;\n",
              "\n",
              "          const docLinkHtml = 'Like what you see? Visit the ' +\n",
              "            '<a target=\"_blank\" href=https://colab.research.google.com/notebooks/data_table.ipynb>data table notebook</a>'\n",
              "            + ' to learn more about interactive tables.';\n",
              "          element.innerHTML = '';\n",
              "          dataTable['output_type'] = 'display_data';\n",
              "          await google.colab.output.renderOutput(dataTable, element);\n",
              "          const docLink = document.createElement('div');\n",
              "          docLink.innerHTML = docLinkHtml;\n",
              "          element.appendChild(docLink);\n",
              "        }\n",
              "      </script>\n",
              "    </div>\n",
              "  </div>\n",
              "  "
            ]
          },
          "metadata": {},
          "execution_count": 47
        }
      ]
    },
    {
      "cell_type": "code",
      "source": [
        "# Show every column data type\n",
        "data.dtypes"
      ],
      "metadata": {
        "colab": {
          "base_uri": "https://localhost:8080/"
        },
        "id": "nQwokaY8tULB",
        "outputId": "bbeb11ae-6050-465f-98ff-77b650227b41"
      },
      "execution_count": null,
      "outputs": [
        {
          "output_type": "execute_result",
          "data": {
            "text/plain": [
              "gender                          object\n",
              "race/ethnicity                  object\n",
              "parental level of education     object\n",
              "lunch                           object\n",
              "test preparation course         object\n",
              "math score                       int64\n",
              "reading score                    int64\n",
              "writing score                    int64\n",
              "math grade                      object\n",
              "reading grade                   object\n",
              "writing grade                   object\n",
              "total scores                     int64\n",
              "average                        float64\n",
              "overall grade                   object\n",
              "overall status                   int64\n",
              "dtype: object"
            ]
          },
          "metadata": {},
          "execution_count": 48
        }
      ]
    },
    {
      "cell_type": "markdown",
      "source": [
        "Terdapat 5 kolom yang perlu di 'one hot encoding' agar dapat dibuat model machiene learning. Kolom tersebut adalah gender, race/ethnicity, parental level of education, lunch dan test preparation course"
      ],
      "metadata": {
        "id": "YnuGxygZchX1"
      }
    },
    {
      "cell_type": "code",
      "source": [
        "# One hot encoding\n",
        "df = pd.get_dummies(data,columns=['gender','race/ethnicity','parental level of education','lunch','test preparation course'])"
      ],
      "metadata": {
        "id": "cmYG50t4zLcb"
      },
      "execution_count": null,
      "outputs": []
    },
    {
      "cell_type": "code",
      "source": [
        "# Show new dataframe\n",
        "df"
      ],
      "metadata": {
        "id": "7_IFmYO_zQBh"
      },
      "execution_count": null,
      "outputs": []
    },
    {
      "cell_type": "code",
      "source": [
        "# Modified dataframe column data type\n",
        "df.dtypes"
      ],
      "metadata": {
        "colab": {
          "base_uri": "https://localhost:8080/"
        },
        "id": "s4KkEm064f88",
        "outputId": "150d40b9-926e-499d-caab-f879cf6a691b"
      },
      "execution_count": null,
      "outputs": [
        {
          "output_type": "execute_result",
          "data": {
            "text/plain": [
              "math score                                          int64\n",
              "reading score                                       int64\n",
              "writing score                                       int64\n",
              "math grade                                         object\n",
              "reading grade                                      object\n",
              "writing grade                                      object\n",
              "total scores                                        int64\n",
              "average                                           float64\n",
              "overall grade                                      object\n",
              "overall status                                      int64\n",
              "gender_female                                       uint8\n",
              "gender_male                                         uint8\n",
              "race/ethnicity_group A                              uint8\n",
              "race/ethnicity_group B                              uint8\n",
              "race/ethnicity_group C                              uint8\n",
              "race/ethnicity_group D                              uint8\n",
              "race/ethnicity_group E                              uint8\n",
              "parental level of education_associate's degree      uint8\n",
              "parental level of education_bachelor's degree       uint8\n",
              "parental level of education_high school             uint8\n",
              "parental level of education_master's degree         uint8\n",
              "parental level of education_some college            uint8\n",
              "parental level of education_some high school        uint8\n",
              "lunch_free/reduced                                  uint8\n",
              "lunch_standard                                      uint8\n",
              "test preparation course_completed                   uint8\n",
              "test preparation course_none                        uint8\n",
              "dtype: object"
            ]
          },
          "metadata": {},
          "execution_count": 52
        }
      ]
    },
    {
      "cell_type": "markdown",
      "source": [
        "Setelah dilakukannya one hot encoding masih diperlukan label encoding terhadap kolom math grade, reading grade, writing grade dan total grade."
      ],
      "metadata": {
        "id": "si8zd41Tg23R"
      }
    },
    {
      "cell_type": "code",
      "source": [
        "# Label encoding\n",
        "grade_dict = {\n",
        "    'A':5,\n",
        "    'B':4,\n",
        "    'C':3,\n",
        "    'D':2,\n",
        "    'E':1,\n",
        "    'F':0\n",
        "}\n",
        "\n",
        "df['math grade'] = df['math grade'].map(grade_dict)\n",
        "df['reading grade'] = df['reading grade'].map(grade_dict)\n",
        "df['writing grade'] = df['writing grade'].map(grade_dict)\n",
        "df['overall grade'] = df['overall grade'].map(grade_dict)"
      ],
      "metadata": {
        "id": "f9_21c0NuRmB"
      },
      "execution_count": null,
      "outputs": []
    },
    {
      "cell_type": "code",
      "source": [
        "# Modified dataframe column data type\n",
        "df.dtypes"
      ],
      "metadata": {
        "colab": {
          "base_uri": "https://localhost:8080/"
        },
        "id": "HSu5SVWzn26c",
        "outputId": "8dab4ed1-41e5-489c-beee-8b530fd43d3c"
      },
      "execution_count": null,
      "outputs": [
        {
          "output_type": "execute_result",
          "data": {
            "text/plain": [
              "math score                                          int64\n",
              "reading score                                       int64\n",
              "writing score                                       int64\n",
              "math grade                                          int64\n",
              "reading grade                                       int64\n",
              "writing grade                                       int64\n",
              "total scores                                        int64\n",
              "average                                           float64\n",
              "overall grade                                       int64\n",
              "overall status                                      int64\n",
              "gender_female                                       uint8\n",
              "gender_male                                         uint8\n",
              "race/ethnicity_group A                              uint8\n",
              "race/ethnicity_group B                              uint8\n",
              "race/ethnicity_group C                              uint8\n",
              "race/ethnicity_group D                              uint8\n",
              "race/ethnicity_group E                              uint8\n",
              "parental level of education_associate's degree      uint8\n",
              "parental level of education_bachelor's degree       uint8\n",
              "parental level of education_high school             uint8\n",
              "parental level of education_master's degree         uint8\n",
              "parental level of education_some college            uint8\n",
              "parental level of education_some high school        uint8\n",
              "lunch_free/reduced                                  uint8\n",
              "lunch_standard                                      uint8\n",
              "test preparation course_completed                   uint8\n",
              "test preparation course_none                        uint8\n",
              "dtype: object"
            ]
          },
          "metadata": {},
          "execution_count": 54
        }
      ]
    },
    {
      "cell_type": "markdown",
      "source": [
        "Seluruh kolom/fitur sudah dalam bentuk integer/float"
      ],
      "metadata": {
        "id": "KTA8WfUPhiHi"
      }
    },
    {
      "cell_type": "code",
      "source": [
        "# Show dataframe\n",
        "df"
      ],
      "metadata": {
        "colab": {
          "base_uri": "https://localhost:8080/",
          "height": 540
        },
        "id": "8dXPoQTBwGLI",
        "outputId": "110fe21b-83b3-4791-865f-3d5e19b2507b"
      },
      "execution_count": null,
      "outputs": [
        {
          "output_type": "execute_result",
          "data": {
            "text/plain": [
              "     math score  reading score  writing score  math grade  reading grade  \\\n",
              "0            72             72             74           3              3   \n",
              "1            69             90             88           2              5   \n",
              "2            90             95             93           5              5   \n",
              "3            47             57             44           0              1   \n",
              "4            76             78             75           3              3   \n",
              "..          ...            ...            ...         ...            ...   \n",
              "995          88             99             95           4              5   \n",
              "996          62             55             55           2              1   \n",
              "997          59             71             65           1              3   \n",
              "998          68             78             77           2              3   \n",
              "999          77             86             86           3              4   \n",
              "\n",
              "     writing grade  total scores    average  overall grade  overall status  \\\n",
              "0                3           218  72.666667              3               1   \n",
              "1                4           247  82.333333              4               1   \n",
              "2                5           278  92.666667              5               1   \n",
              "3                0           148  49.333333              0               0   \n",
              "4                3           229  76.333333              3               1   \n",
              "..             ...           ...        ...            ...             ...   \n",
              "995              5           282  94.000000              5               1   \n",
              "996              1           172  57.333333              1               0   \n",
              "997              2           195  65.000000              2               0   \n",
              "998              3           223  74.333333              3               1   \n",
              "999              4           249  83.000000              4               1   \n",
              "\n",
              "     ...  parental level of education_associate's degree  \\\n",
              "0    ...                                               0   \n",
              "1    ...                                               0   \n",
              "2    ...                                               0   \n",
              "3    ...                                               1   \n",
              "4    ...                                               0   \n",
              "..   ...                                             ...   \n",
              "995  ...                                               0   \n",
              "996  ...                                               0   \n",
              "997  ...                                               0   \n",
              "998  ...                                               0   \n",
              "999  ...                                               0   \n",
              "\n",
              "     parental level of education_bachelor's degree  \\\n",
              "0                                                1   \n",
              "1                                                0   \n",
              "2                                                0   \n",
              "3                                                0   \n",
              "4                                                0   \n",
              "..                                             ...   \n",
              "995                                              0   \n",
              "996                                              0   \n",
              "997                                              0   \n",
              "998                                              0   \n",
              "999                                              0   \n",
              "\n",
              "     parental level of education_high school  \\\n",
              "0                                          0   \n",
              "1                                          0   \n",
              "2                                          0   \n",
              "3                                          0   \n",
              "4                                          0   \n",
              "..                                       ...   \n",
              "995                                        0   \n",
              "996                                        1   \n",
              "997                                        1   \n",
              "998                                        0   \n",
              "999                                        0   \n",
              "\n",
              "     parental level of education_master's degree  \\\n",
              "0                                              0   \n",
              "1                                              0   \n",
              "2                                              1   \n",
              "3                                              0   \n",
              "4                                              0   \n",
              "..                                           ...   \n",
              "995                                            1   \n",
              "996                                            0   \n",
              "997                                            0   \n",
              "998                                            0   \n",
              "999                                            0   \n",
              "\n",
              "     parental level of education_some college  \\\n",
              "0                                           0   \n",
              "1                                           1   \n",
              "2                                           0   \n",
              "3                                           0   \n",
              "4                                           1   \n",
              "..                                        ...   \n",
              "995                                         0   \n",
              "996                                         0   \n",
              "997                                         0   \n",
              "998                                         1   \n",
              "999                                         1   \n",
              "\n",
              "     parental level of education_some high school  lunch_free/reduced  \\\n",
              "0                                               0                   0   \n",
              "1                                               0                   0   \n",
              "2                                               0                   0   \n",
              "3                                               0                   1   \n",
              "4                                               0                   0   \n",
              "..                                            ...                 ...   \n",
              "995                                             0                   0   \n",
              "996                                             0                   1   \n",
              "997                                             0                   1   \n",
              "998                                             0                   0   \n",
              "999                                             0                   1   \n",
              "\n",
              "     lunch_standard  test preparation course_completed  \\\n",
              "0                 1                                  0   \n",
              "1                 1                                  1   \n",
              "2                 1                                  0   \n",
              "3                 0                                  0   \n",
              "4                 1                                  0   \n",
              "..              ...                                ...   \n",
              "995               1                                  1   \n",
              "996               0                                  0   \n",
              "997               0                                  1   \n",
              "998               1                                  1   \n",
              "999               0                                  0   \n",
              "\n",
              "     test preparation course_none  \n",
              "0                               1  \n",
              "1                               0  \n",
              "2                               1  \n",
              "3                               1  \n",
              "4                               1  \n",
              "..                            ...  \n",
              "995                             0  \n",
              "996                             1  \n",
              "997                             0  \n",
              "998                             0  \n",
              "999                             1  \n",
              "\n",
              "[1000 rows x 27 columns]"
            ],
            "text/html": [
              "\n",
              "  <div id=\"df-d2d6469e-7fb3-42d5-8025-3e45107de2b3\">\n",
              "    <div class=\"colab-df-container\">\n",
              "      <div>\n",
              "<style scoped>\n",
              "    .dataframe tbody tr th:only-of-type {\n",
              "        vertical-align: middle;\n",
              "    }\n",
              "\n",
              "    .dataframe tbody tr th {\n",
              "        vertical-align: top;\n",
              "    }\n",
              "\n",
              "    .dataframe thead th {\n",
              "        text-align: right;\n",
              "    }\n",
              "</style>\n",
              "<table border=\"1\" class=\"dataframe\">\n",
              "  <thead>\n",
              "    <tr style=\"text-align: right;\">\n",
              "      <th></th>\n",
              "      <th>math score</th>\n",
              "      <th>reading score</th>\n",
              "      <th>writing score</th>\n",
              "      <th>math grade</th>\n",
              "      <th>reading grade</th>\n",
              "      <th>writing grade</th>\n",
              "      <th>total scores</th>\n",
              "      <th>average</th>\n",
              "      <th>overall grade</th>\n",
              "      <th>overall status</th>\n",
              "      <th>...</th>\n",
              "      <th>parental level of education_associate's degree</th>\n",
              "      <th>parental level of education_bachelor's degree</th>\n",
              "      <th>parental level of education_high school</th>\n",
              "      <th>parental level of education_master's degree</th>\n",
              "      <th>parental level of education_some college</th>\n",
              "      <th>parental level of education_some high school</th>\n",
              "      <th>lunch_free/reduced</th>\n",
              "      <th>lunch_standard</th>\n",
              "      <th>test preparation course_completed</th>\n",
              "      <th>test preparation course_none</th>\n",
              "    </tr>\n",
              "  </thead>\n",
              "  <tbody>\n",
              "    <tr>\n",
              "      <th>0</th>\n",
              "      <td>72</td>\n",
              "      <td>72</td>\n",
              "      <td>74</td>\n",
              "      <td>3</td>\n",
              "      <td>3</td>\n",
              "      <td>3</td>\n",
              "      <td>218</td>\n",
              "      <td>72.666667</td>\n",
              "      <td>3</td>\n",
              "      <td>1</td>\n",
              "      <td>...</td>\n",
              "      <td>0</td>\n",
              "      <td>1</td>\n",
              "      <td>0</td>\n",
              "      <td>0</td>\n",
              "      <td>0</td>\n",
              "      <td>0</td>\n",
              "      <td>0</td>\n",
              "      <td>1</td>\n",
              "      <td>0</td>\n",
              "      <td>1</td>\n",
              "    </tr>\n",
              "    <tr>\n",
              "      <th>1</th>\n",
              "      <td>69</td>\n",
              "      <td>90</td>\n",
              "      <td>88</td>\n",
              "      <td>2</td>\n",
              "      <td>5</td>\n",
              "      <td>4</td>\n",
              "      <td>247</td>\n",
              "      <td>82.333333</td>\n",
              "      <td>4</td>\n",
              "      <td>1</td>\n",
              "      <td>...</td>\n",
              "      <td>0</td>\n",
              "      <td>0</td>\n",
              "      <td>0</td>\n",
              "      <td>0</td>\n",
              "      <td>1</td>\n",
              "      <td>0</td>\n",
              "      <td>0</td>\n",
              "      <td>1</td>\n",
              "      <td>1</td>\n",
              "      <td>0</td>\n",
              "    </tr>\n",
              "    <tr>\n",
              "      <th>2</th>\n",
              "      <td>90</td>\n",
              "      <td>95</td>\n",
              "      <td>93</td>\n",
              "      <td>5</td>\n",
              "      <td>5</td>\n",
              "      <td>5</td>\n",
              "      <td>278</td>\n",
              "      <td>92.666667</td>\n",
              "      <td>5</td>\n",
              "      <td>1</td>\n",
              "      <td>...</td>\n",
              "      <td>0</td>\n",
              "      <td>0</td>\n",
              "      <td>0</td>\n",
              "      <td>1</td>\n",
              "      <td>0</td>\n",
              "      <td>0</td>\n",
              "      <td>0</td>\n",
              "      <td>1</td>\n",
              "      <td>0</td>\n",
              "      <td>1</td>\n",
              "    </tr>\n",
              "    <tr>\n",
              "      <th>3</th>\n",
              "      <td>47</td>\n",
              "      <td>57</td>\n",
              "      <td>44</td>\n",
              "      <td>0</td>\n",
              "      <td>1</td>\n",
              "      <td>0</td>\n",
              "      <td>148</td>\n",
              "      <td>49.333333</td>\n",
              "      <td>0</td>\n",
              "      <td>0</td>\n",
              "      <td>...</td>\n",
              "      <td>1</td>\n",
              "      <td>0</td>\n",
              "      <td>0</td>\n",
              "      <td>0</td>\n",
              "      <td>0</td>\n",
              "      <td>0</td>\n",
              "      <td>1</td>\n",
              "      <td>0</td>\n",
              "      <td>0</td>\n",
              "      <td>1</td>\n",
              "    </tr>\n",
              "    <tr>\n",
              "      <th>4</th>\n",
              "      <td>76</td>\n",
              "      <td>78</td>\n",
              "      <td>75</td>\n",
              "      <td>3</td>\n",
              "      <td>3</td>\n",
              "      <td>3</td>\n",
              "      <td>229</td>\n",
              "      <td>76.333333</td>\n",
              "      <td>3</td>\n",
              "      <td>1</td>\n",
              "      <td>...</td>\n",
              "      <td>0</td>\n",
              "      <td>0</td>\n",
              "      <td>0</td>\n",
              "      <td>0</td>\n",
              "      <td>1</td>\n",
              "      <td>0</td>\n",
              "      <td>0</td>\n",
              "      <td>1</td>\n",
              "      <td>0</td>\n",
              "      <td>1</td>\n",
              "    </tr>\n",
              "    <tr>\n",
              "      <th>...</th>\n",
              "      <td>...</td>\n",
              "      <td>...</td>\n",
              "      <td>...</td>\n",
              "      <td>...</td>\n",
              "      <td>...</td>\n",
              "      <td>...</td>\n",
              "      <td>...</td>\n",
              "      <td>...</td>\n",
              "      <td>...</td>\n",
              "      <td>...</td>\n",
              "      <td>...</td>\n",
              "      <td>...</td>\n",
              "      <td>...</td>\n",
              "      <td>...</td>\n",
              "      <td>...</td>\n",
              "      <td>...</td>\n",
              "      <td>...</td>\n",
              "      <td>...</td>\n",
              "      <td>...</td>\n",
              "      <td>...</td>\n",
              "      <td>...</td>\n",
              "    </tr>\n",
              "    <tr>\n",
              "      <th>995</th>\n",
              "      <td>88</td>\n",
              "      <td>99</td>\n",
              "      <td>95</td>\n",
              "      <td>4</td>\n",
              "      <td>5</td>\n",
              "      <td>5</td>\n",
              "      <td>282</td>\n",
              "      <td>94.000000</td>\n",
              "      <td>5</td>\n",
              "      <td>1</td>\n",
              "      <td>...</td>\n",
              "      <td>0</td>\n",
              "      <td>0</td>\n",
              "      <td>0</td>\n",
              "      <td>1</td>\n",
              "      <td>0</td>\n",
              "      <td>0</td>\n",
              "      <td>0</td>\n",
              "      <td>1</td>\n",
              "      <td>1</td>\n",
              "      <td>0</td>\n",
              "    </tr>\n",
              "    <tr>\n",
              "      <th>996</th>\n",
              "      <td>62</td>\n",
              "      <td>55</td>\n",
              "      <td>55</td>\n",
              "      <td>2</td>\n",
              "      <td>1</td>\n",
              "      <td>1</td>\n",
              "      <td>172</td>\n",
              "      <td>57.333333</td>\n",
              "      <td>1</td>\n",
              "      <td>0</td>\n",
              "      <td>...</td>\n",
              "      <td>0</td>\n",
              "      <td>0</td>\n",
              "      <td>1</td>\n",
              "      <td>0</td>\n",
              "      <td>0</td>\n",
              "      <td>0</td>\n",
              "      <td>1</td>\n",
              "      <td>0</td>\n",
              "      <td>0</td>\n",
              "      <td>1</td>\n",
              "    </tr>\n",
              "    <tr>\n",
              "      <th>997</th>\n",
              "      <td>59</td>\n",
              "      <td>71</td>\n",
              "      <td>65</td>\n",
              "      <td>1</td>\n",
              "      <td>3</td>\n",
              "      <td>2</td>\n",
              "      <td>195</td>\n",
              "      <td>65.000000</td>\n",
              "      <td>2</td>\n",
              "      <td>0</td>\n",
              "      <td>...</td>\n",
              "      <td>0</td>\n",
              "      <td>0</td>\n",
              "      <td>1</td>\n",
              "      <td>0</td>\n",
              "      <td>0</td>\n",
              "      <td>0</td>\n",
              "      <td>1</td>\n",
              "      <td>0</td>\n",
              "      <td>1</td>\n",
              "      <td>0</td>\n",
              "    </tr>\n",
              "    <tr>\n",
              "      <th>998</th>\n",
              "      <td>68</td>\n",
              "      <td>78</td>\n",
              "      <td>77</td>\n",
              "      <td>2</td>\n",
              "      <td>3</td>\n",
              "      <td>3</td>\n",
              "      <td>223</td>\n",
              "      <td>74.333333</td>\n",
              "      <td>3</td>\n",
              "      <td>1</td>\n",
              "      <td>...</td>\n",
              "      <td>0</td>\n",
              "      <td>0</td>\n",
              "      <td>0</td>\n",
              "      <td>0</td>\n",
              "      <td>1</td>\n",
              "      <td>0</td>\n",
              "      <td>0</td>\n",
              "      <td>1</td>\n",
              "      <td>1</td>\n",
              "      <td>0</td>\n",
              "    </tr>\n",
              "    <tr>\n",
              "      <th>999</th>\n",
              "      <td>77</td>\n",
              "      <td>86</td>\n",
              "      <td>86</td>\n",
              "      <td>3</td>\n",
              "      <td>4</td>\n",
              "      <td>4</td>\n",
              "      <td>249</td>\n",
              "      <td>83.000000</td>\n",
              "      <td>4</td>\n",
              "      <td>1</td>\n",
              "      <td>...</td>\n",
              "      <td>0</td>\n",
              "      <td>0</td>\n",
              "      <td>0</td>\n",
              "      <td>0</td>\n",
              "      <td>1</td>\n",
              "      <td>0</td>\n",
              "      <td>1</td>\n",
              "      <td>0</td>\n",
              "      <td>0</td>\n",
              "      <td>1</td>\n",
              "    </tr>\n",
              "  </tbody>\n",
              "</table>\n",
              "<p>1000 rows × 27 columns</p>\n",
              "</div>\n",
              "      <button class=\"colab-df-convert\" onclick=\"convertToInteractive('df-d2d6469e-7fb3-42d5-8025-3e45107de2b3')\"\n",
              "              title=\"Convert this dataframe to an interactive table.\"\n",
              "              style=\"display:none;\">\n",
              "        \n",
              "  <svg xmlns=\"http://www.w3.org/2000/svg\" height=\"24px\"viewBox=\"0 0 24 24\"\n",
              "       width=\"24px\">\n",
              "    <path d=\"M0 0h24v24H0V0z\" fill=\"none\"/>\n",
              "    <path d=\"M18.56 5.44l.94 2.06.94-2.06 2.06-.94-2.06-.94-.94-2.06-.94 2.06-2.06.94zm-11 1L8.5 8.5l.94-2.06 2.06-.94-2.06-.94L8.5 2.5l-.94 2.06-2.06.94zm10 10l.94 2.06.94-2.06 2.06-.94-2.06-.94-.94-2.06-.94 2.06-2.06.94z\"/><path d=\"M17.41 7.96l-1.37-1.37c-.4-.4-.92-.59-1.43-.59-.52 0-1.04.2-1.43.59L10.3 9.45l-7.72 7.72c-.78.78-.78 2.05 0 2.83L4 21.41c.39.39.9.59 1.41.59.51 0 1.02-.2 1.41-.59l7.78-7.78 2.81-2.81c.8-.78.8-2.07 0-2.86zM5.41 20L4 18.59l7.72-7.72 1.47 1.35L5.41 20z\"/>\n",
              "  </svg>\n",
              "      </button>\n",
              "      \n",
              "  <style>\n",
              "    .colab-df-container {\n",
              "      display:flex;\n",
              "      flex-wrap:wrap;\n",
              "      gap: 12px;\n",
              "    }\n",
              "\n",
              "    .colab-df-convert {\n",
              "      background-color: #E8F0FE;\n",
              "      border: none;\n",
              "      border-radius: 50%;\n",
              "      cursor: pointer;\n",
              "      display: none;\n",
              "      fill: #1967D2;\n",
              "      height: 32px;\n",
              "      padding: 0 0 0 0;\n",
              "      width: 32px;\n",
              "    }\n",
              "\n",
              "    .colab-df-convert:hover {\n",
              "      background-color: #E2EBFA;\n",
              "      box-shadow: 0px 1px 2px rgba(60, 64, 67, 0.3), 0px 1px 3px 1px rgba(60, 64, 67, 0.15);\n",
              "      fill: #174EA6;\n",
              "    }\n",
              "\n",
              "    [theme=dark] .colab-df-convert {\n",
              "      background-color: #3B4455;\n",
              "      fill: #D2E3FC;\n",
              "    }\n",
              "\n",
              "    [theme=dark] .colab-df-convert:hover {\n",
              "      background-color: #434B5C;\n",
              "      box-shadow: 0px 1px 3px 1px rgba(0, 0, 0, 0.15);\n",
              "      filter: drop-shadow(0px 1px 2px rgba(0, 0, 0, 0.3));\n",
              "      fill: #FFFFFF;\n",
              "    }\n",
              "  </style>\n",
              "\n",
              "      <script>\n",
              "        const buttonEl =\n",
              "          document.querySelector('#df-d2d6469e-7fb3-42d5-8025-3e45107de2b3 button.colab-df-convert');\n",
              "        buttonEl.style.display =\n",
              "          google.colab.kernel.accessAllowed ? 'block' : 'none';\n",
              "\n",
              "        async function convertToInteractive(key) {\n",
              "          const element = document.querySelector('#df-d2d6469e-7fb3-42d5-8025-3e45107de2b3');\n",
              "          const dataTable =\n",
              "            await google.colab.kernel.invokeFunction('convertToInteractive',\n",
              "                                                     [key], {});\n",
              "          if (!dataTable) return;\n",
              "\n",
              "          const docLinkHtml = 'Like what you see? Visit the ' +\n",
              "            '<a target=\"_blank\" href=https://colab.research.google.com/notebooks/data_table.ipynb>data table notebook</a>'\n",
              "            + ' to learn more about interactive tables.';\n",
              "          element.innerHTML = '';\n",
              "          dataTable['output_type'] = 'display_data';\n",
              "          await google.colab.output.renderOutput(dataTable, element);\n",
              "          const docLink = document.createElement('div');\n",
              "          docLink.innerHTML = docLinkHtml;\n",
              "          element.appendChild(docLink);\n",
              "        }\n",
              "      </script>\n",
              "    </div>\n",
              "  </div>\n",
              "  "
            ]
          },
          "metadata": {},
          "execution_count": 55
        }
      ]
    },
    {
      "cell_type": "markdown",
      "source": [
        "Nilai 1 pada kolom yang telah di encoding menunjukan makna positif(memiliki nilai pada kolom tersebut), sedangkan nilai 0 menunjukan makna negatif(tidak memiliki nilai pada kolom tersebut)"
      ],
      "metadata": {
        "id": "1gLDPvurhrDR"
      }
    },
    {
      "cell_type": "code",
      "source": [
        "# Import libary to split data\n",
        "from sklearn.model_selection import train_test_split"
      ],
      "metadata": {
        "id": "Ej9iyMT70VXx"
      },
      "execution_count": null,
      "outputs": []
    },
    {
      "cell_type": "code",
      "source": [
        "data_train, data_test = train_test_split(df, \n",
        "                                     test_size = 0.25, random_state = 1) "
      ],
      "metadata": {
        "id": "48oec9BY0eHD"
      },
      "execution_count": null,
      "outputs": []
    },
    {
      "cell_type": "code",
      "source": [
        "X_train_data = data_train.loc[:, data_train.columns!='overall status']\n",
        "y_train_data = data_train.loc[:, data_train.columns=='overall status']\n",
        "\n",
        "X_test_data = data_test.loc[:, data_test.columns!='overall status']\n",
        "y_test_data = data_test.loc[:, data_test.columns=='overall status']"
      ],
      "metadata": {
        "id": "_bLn_TXG0nv0"
      },
      "execution_count": null,
      "outputs": []
    },
    {
      "cell_type": "markdown",
      "source": [
        "overall status ditetapkan sebagai target karna yang ingin dicapai dari pemodelan yang dibuat apakah siswa tersebut lulus atau tidak secara keseluruhan."
      ],
      "metadata": {
        "id": "xTmnLTEziF6J"
      }
    },
    {
      "cell_type": "code",
      "source": [
        "# import random undersampling library \n",
        "from collections import Counter\n",
        "from imblearn.under_sampling import RandomUnderSampler\n",
        "import warnings\n",
        "warnings.simplefilter(action='ignore', category=FutureWarning)\n",
        "\n",
        "# summarize class distribution\n",
        "print(Counter(y_train_data['overall status']))\n",
        "\n",
        "# define undersample strategy\n",
        "undersample = RandomUnderSampler(sampling_strategy='majority')\n",
        "\n",
        "# fit and apply the transform\n",
        "X_train_under, y_train_under = undersample.fit_resample(X_train_data, \n",
        "                                                        y_train_data)\n",
        "\n",
        "# summarize class distribution\n",
        "print(Counter(y_train_under['overall status']))"
      ],
      "metadata": {
        "colab": {
          "base_uri": "https://localhost:8080/"
        },
        "id": "vOm7Swuy07Pw",
        "outputId": "301cdc46-36d4-488a-cc7a-38a59ce0811a"
      },
      "execution_count": null,
      "outputs": [
        {
          "output_type": "stream",
          "name": "stdout",
          "text": [
            "Counter({0: 411, 1: 339})\n",
            "Counter({0: 339, 1: 339})\n"
          ]
        }
      ]
    },
    {
      "cell_type": "code",
      "source": [
        "# Evaluation function\n",
        "def evaluate(model, x_test = X_test_data, y_test = y_test_data):\n",
        "    y_pred = model.predict(x_test)\n",
        "    print('Accuracy:', accuracy_score(y_test, y_pred))\n",
        "    print('------')\n",
        "    print('Confusion Matrix:')\n",
        "    print()\n",
        "    print(classification_report(y_test, y_pred))\n",
        "    print('------')\n",
        "    \n",
        "    tn, fp, fn, tp = confusion_matrix(y_test, y_pred).ravel()\n",
        "    print('Assuming 1 as positive, we get:')\n",
        "    print('')\n",
        "    print('True Positive:', tp)\n",
        "    print('True Negative:', tn)\n",
        "    print('False Positive:', fp)\n",
        "    print('False Negative:', fn)\n",
        "    \n",
        "    print('')\n",
        "    \n",
        "    precision = tp/(tp+fp)\n",
        "    recall = tp/(tp+fn)\n",
        "    \n",
        "    print('Precision:', precision)\n",
        "    print('Recall:', recall)\n",
        "    print('F1-Score:', 2 * (precision * recall)/(precision + recall))"
      ],
      "metadata": {
        "id": "-O7elwHl4FYX"
      },
      "execution_count": null,
      "outputs": []
    },
    {
      "cell_type": "code",
      "source": [
        "# Import Libraries for Modeling\n",
        "from sklearn.model_selection import train_test_split\n",
        "from sklearn.neighbors import KNeighborsClassifier\n",
        "from sklearn.linear_model import LogisticRegression\n",
        "from sklearn.tree import DecisionTreeClassifier\n",
        "\n",
        "from sklearn.metrics import accuracy_score\n",
        "from sklearn.metrics import classification_report\n",
        "from sklearn.metrics import confusion_matrix\n",
        "\n",
        "import warnings\n",
        "warnings.filterwarnings('ignore')"
      ],
      "metadata": {
        "id": "rksYDtkB4XQ1"
      },
      "execution_count": null,
      "outputs": []
    },
    {
      "cell_type": "code",
      "source": [
        "# KNN Model\n",
        "knn = KNeighborsClassifier(n_neighbors = 3)\n",
        "knn.fit(X_train_under, y_train_under)"
      ],
      "metadata": {
        "colab": {
          "base_uri": "https://localhost:8080/"
        },
        "id": "r_ZqiwP54IE6",
        "outputId": "8183ba6b-1cbf-4a0d-95f1-824f1a5700ce"
      },
      "execution_count": null,
      "outputs": [
        {
          "output_type": "execute_result",
          "data": {
            "text/plain": [
              "KNeighborsClassifier(n_neighbors=3)"
            ]
          },
          "metadata": {},
          "execution_count": 62
        }
      ]
    },
    {
      "cell_type": "code",
      "source": [
        "evaluate(knn)"
      ],
      "metadata": {
        "colab": {
          "base_uri": "https://localhost:8080/"
        },
        "id": "bIs5rhz5sdF8",
        "outputId": "95d0c495-0cd6-4221-b292-a96404b03951"
      },
      "execution_count": null,
      "outputs": [
        {
          "output_type": "stream",
          "name": "stdout",
          "text": [
            "Accuracy: 0.996\n",
            "------\n",
            "Confusion Matrix:\n",
            "\n",
            "              precision    recall  f1-score   support\n",
            "\n",
            "           0       0.99      1.00      1.00       130\n",
            "           1       1.00      0.99      1.00       120\n",
            "\n",
            "    accuracy                           1.00       250\n",
            "   macro avg       1.00      1.00      1.00       250\n",
            "weighted avg       1.00      1.00      1.00       250\n",
            "\n",
            "------\n",
            "Assuming 1 as positive, we get:\n",
            "\n",
            "True Positive: 119\n",
            "True Negative: 130\n",
            "False Positive: 0\n",
            "False Negative: 1\n",
            "\n",
            "Precision: 1.0\n",
            "Recall: 0.9916666666666667\n",
            "F1-Score: 0.99581589958159\n"
          ]
        }
      ]
    },
    {
      "cell_type": "markdown",
      "source": [
        "*   Presisi dari model KNN yang dibuat sangat baik yaitu bernilai 1\n",
        "*   Nilai Recall maupun F1-Score dari pemodelan KNN yang dibuat juga sudah sangat baik.\n",
        "\n"
      ],
      "metadata": {
        "id": "DrLXYIsai8TD"
      }
    },
    {
      "cell_type": "code",
      "source": [
        "# Function to show more recall result from many divider\n",
        "def evaluate_recall(model, x_test = X_test_data, y_test = y_test_data):\n",
        "    y_pred = model.predict(x_test)\n",
        "    tn, fp, fn, tp = confusion_matrix(y_test, y_pred).ravel()\n",
        "    \n",
        "    precision = tp/(tp+fp)\n",
        "    recall = tp/(tp+fn)\n",
        "    \n",
        "    return recall"
      ],
      "metadata": {
        "id": "ufnwydOPwYcx"
      },
      "execution_count": null,
      "outputs": []
    },
    {
      "cell_type": "code",
      "source": [
        "# Function to show more recall result from many divider\n",
        "recall_dict = {\n",
        "    'n':[],\n",
        "    'recall':[]\n",
        "}\n",
        "for n in [3,5,7,9,11,13,15]:\n",
        "    knn = KNeighborsClassifier(n_neighbors = n)\n",
        "    knn.fit(X_train_under, y_train_under)\n",
        "    recall = evaluate_recall(knn)\n",
        "    recall_dict['n'].append(n)\n",
        "    recall_dict['recall'].append(recall)\n",
        "    \n",
        "recall_df = pd.DataFrame(recall_dict)"
      ],
      "metadata": {
        "id": "q2SK2ofjwdRk"
      },
      "execution_count": null,
      "outputs": []
    },
    {
      "cell_type": "markdown",
      "source": [
        "Difokuskan terhadap recall karna tidak diinginkan kesalahan status dari anak yang seharusnya mendapatkan status lulus"
      ],
      "metadata": {
        "id": "KR0U9gjrkOMR"
      }
    },
    {
      "cell_type": "code",
      "source": [
        "# Show the recall result\n",
        "recall_df"
      ],
      "metadata": {
        "colab": {
          "base_uri": "https://localhost:8080/",
          "height": 269
        },
        "id": "6iNnHbh-wgl3",
        "outputId": "f9dc66d9-f1e2-4a6e-a9be-a693996b2daa"
      },
      "execution_count": null,
      "outputs": [
        {
          "output_type": "execute_result",
          "data": {
            "text/plain": [
              "    n    recall\n",
              "0   3  0.991667\n",
              "1   5  0.991667\n",
              "2   7  1.000000\n",
              "3   9  1.000000\n",
              "4  11  1.000000\n",
              "5  13  1.000000\n",
              "6  15  1.000000"
            ],
            "text/html": [
              "\n",
              "  <div id=\"df-ed835f2a-4f23-4539-ab4a-58f55a16070b\">\n",
              "    <div class=\"colab-df-container\">\n",
              "      <div>\n",
              "<style scoped>\n",
              "    .dataframe tbody tr th:only-of-type {\n",
              "        vertical-align: middle;\n",
              "    }\n",
              "\n",
              "    .dataframe tbody tr th {\n",
              "        vertical-align: top;\n",
              "    }\n",
              "\n",
              "    .dataframe thead th {\n",
              "        text-align: right;\n",
              "    }\n",
              "</style>\n",
              "<table border=\"1\" class=\"dataframe\">\n",
              "  <thead>\n",
              "    <tr style=\"text-align: right;\">\n",
              "      <th></th>\n",
              "      <th>n</th>\n",
              "      <th>recall</th>\n",
              "    </tr>\n",
              "  </thead>\n",
              "  <tbody>\n",
              "    <tr>\n",
              "      <th>0</th>\n",
              "      <td>3</td>\n",
              "      <td>0.991667</td>\n",
              "    </tr>\n",
              "    <tr>\n",
              "      <th>1</th>\n",
              "      <td>5</td>\n",
              "      <td>0.991667</td>\n",
              "    </tr>\n",
              "    <tr>\n",
              "      <th>2</th>\n",
              "      <td>7</td>\n",
              "      <td>1.000000</td>\n",
              "    </tr>\n",
              "    <tr>\n",
              "      <th>3</th>\n",
              "      <td>9</td>\n",
              "      <td>1.000000</td>\n",
              "    </tr>\n",
              "    <tr>\n",
              "      <th>4</th>\n",
              "      <td>11</td>\n",
              "      <td>1.000000</td>\n",
              "    </tr>\n",
              "    <tr>\n",
              "      <th>5</th>\n",
              "      <td>13</td>\n",
              "      <td>1.000000</td>\n",
              "    </tr>\n",
              "    <tr>\n",
              "      <th>6</th>\n",
              "      <td>15</td>\n",
              "      <td>1.000000</td>\n",
              "    </tr>\n",
              "  </tbody>\n",
              "</table>\n",
              "</div>\n",
              "      <button class=\"colab-df-convert\" onclick=\"convertToInteractive('df-ed835f2a-4f23-4539-ab4a-58f55a16070b')\"\n",
              "              title=\"Convert this dataframe to an interactive table.\"\n",
              "              style=\"display:none;\">\n",
              "        \n",
              "  <svg xmlns=\"http://www.w3.org/2000/svg\" height=\"24px\"viewBox=\"0 0 24 24\"\n",
              "       width=\"24px\">\n",
              "    <path d=\"M0 0h24v24H0V0z\" fill=\"none\"/>\n",
              "    <path d=\"M18.56 5.44l.94 2.06.94-2.06 2.06-.94-2.06-.94-.94-2.06-.94 2.06-2.06.94zm-11 1L8.5 8.5l.94-2.06 2.06-.94-2.06-.94L8.5 2.5l-.94 2.06-2.06.94zm10 10l.94 2.06.94-2.06 2.06-.94-2.06-.94-.94-2.06-.94 2.06-2.06.94z\"/><path d=\"M17.41 7.96l-1.37-1.37c-.4-.4-.92-.59-1.43-.59-.52 0-1.04.2-1.43.59L10.3 9.45l-7.72 7.72c-.78.78-.78 2.05 0 2.83L4 21.41c.39.39.9.59 1.41.59.51 0 1.02-.2 1.41-.59l7.78-7.78 2.81-2.81c.8-.78.8-2.07 0-2.86zM5.41 20L4 18.59l7.72-7.72 1.47 1.35L5.41 20z\"/>\n",
              "  </svg>\n",
              "      </button>\n",
              "      \n",
              "  <style>\n",
              "    .colab-df-container {\n",
              "      display:flex;\n",
              "      flex-wrap:wrap;\n",
              "      gap: 12px;\n",
              "    }\n",
              "\n",
              "    .colab-df-convert {\n",
              "      background-color: #E8F0FE;\n",
              "      border: none;\n",
              "      border-radius: 50%;\n",
              "      cursor: pointer;\n",
              "      display: none;\n",
              "      fill: #1967D2;\n",
              "      height: 32px;\n",
              "      padding: 0 0 0 0;\n",
              "      width: 32px;\n",
              "    }\n",
              "\n",
              "    .colab-df-convert:hover {\n",
              "      background-color: #E2EBFA;\n",
              "      box-shadow: 0px 1px 2px rgba(60, 64, 67, 0.3), 0px 1px 3px 1px rgba(60, 64, 67, 0.15);\n",
              "      fill: #174EA6;\n",
              "    }\n",
              "\n",
              "    [theme=dark] .colab-df-convert {\n",
              "      background-color: #3B4455;\n",
              "      fill: #D2E3FC;\n",
              "    }\n",
              "\n",
              "    [theme=dark] .colab-df-convert:hover {\n",
              "      background-color: #434B5C;\n",
              "      box-shadow: 0px 1px 3px 1px rgba(0, 0, 0, 0.15);\n",
              "      filter: drop-shadow(0px 1px 2px rgba(0, 0, 0, 0.3));\n",
              "      fill: #FFFFFF;\n",
              "    }\n",
              "  </style>\n",
              "\n",
              "      <script>\n",
              "        const buttonEl =\n",
              "          document.querySelector('#df-ed835f2a-4f23-4539-ab4a-58f55a16070b button.colab-df-convert');\n",
              "        buttonEl.style.display =\n",
              "          google.colab.kernel.accessAllowed ? 'block' : 'none';\n",
              "\n",
              "        async function convertToInteractive(key) {\n",
              "          const element = document.querySelector('#df-ed835f2a-4f23-4539-ab4a-58f55a16070b');\n",
              "          const dataTable =\n",
              "            await google.colab.kernel.invokeFunction('convertToInteractive',\n",
              "                                                     [key], {});\n",
              "          if (!dataTable) return;\n",
              "\n",
              "          const docLinkHtml = 'Like what you see? Visit the ' +\n",
              "            '<a target=\"_blank\" href=https://colab.research.google.com/notebooks/data_table.ipynb>data table notebook</a>'\n",
              "            + ' to learn more about interactive tables.';\n",
              "          element.innerHTML = '';\n",
              "          dataTable['output_type'] = 'display_data';\n",
              "          await google.colab.output.renderOutput(dataTable, element);\n",
              "          const docLink = document.createElement('div');\n",
              "          docLink.innerHTML = docLinkHtml;\n",
              "          element.appendChild(docLink);\n",
              "        }\n",
              "      </script>\n",
              "    </div>\n",
              "  </div>\n",
              "  "
            ]
          },
          "metadata": {},
          "execution_count": 66
        }
      ]
    },
    {
      "cell_type": "markdown",
      "source": [
        "Mulai dari n = 7 sampai n = 15 diperoleh nilai recall yang sempurna yaitu 1. Selain itu, dapat dipredisikan juga kalau nilai n bertambah lagi maka nilai recall juga tetap 1"
      ],
      "metadata": {
        "id": "kFGukY0Mkmsq"
      }
    },
    {
      "cell_type": "markdown",
      "source": [
        "## Logistic Regression"
      ],
      "metadata": {
        "id": "u67Dxgp3ns_b"
      }
    },
    {
      "cell_type": "code",
      "source": [
        "# Logistic Regression\n",
        "logreg = LogisticRegression()\n",
        "logreg.fit(X_train_under, y_train_under)"
      ],
      "metadata": {
        "id": "oLju7SrS4FTL",
        "colab": {
          "base_uri": "https://localhost:8080/"
        },
        "outputId": "9d49d2ff-223d-4270-c997-770964b87b68"
      },
      "execution_count": null,
      "outputs": [
        {
          "output_type": "execute_result",
          "data": {
            "text/plain": [
              "LogisticRegression()"
            ]
          },
          "metadata": {},
          "execution_count": 67
        }
      ]
    },
    {
      "cell_type": "code",
      "source": [
        "evaluate(logreg)"
      ],
      "metadata": {
        "id": "FWHjHki74FRQ",
        "colab": {
          "base_uri": "https://localhost:8080/"
        },
        "outputId": "63c8a6a1-8f31-481b-82ca-fa81929ba76a"
      },
      "execution_count": null,
      "outputs": [
        {
          "output_type": "stream",
          "name": "stdout",
          "text": [
            "Accuracy: 1.0\n",
            "------\n",
            "Confusion Matrix:\n",
            "\n",
            "              precision    recall  f1-score   support\n",
            "\n",
            "           0       1.00      1.00      1.00       130\n",
            "           1       1.00      1.00      1.00       120\n",
            "\n",
            "    accuracy                           1.00       250\n",
            "   macro avg       1.00      1.00      1.00       250\n",
            "weighted avg       1.00      1.00      1.00       250\n",
            "\n",
            "------\n",
            "Assuming 1 as positive, we get:\n",
            "\n",
            "True Positive: 120\n",
            "True Negative: 130\n",
            "False Positive: 0\n",
            "False Negative: 0\n",
            "\n",
            "Precision: 1.0\n",
            "Recall: 1.0\n",
            "F1-Score: 1.0\n"
          ]
        }
      ]
    },
    {
      "cell_type": "markdown",
      "source": [
        "Model Logistic Regression yang dibuat memiliki nilai akurasi, presisi, recall dan F1-score yang sempurna (1) terhadap dataset yang diambil"
      ],
      "metadata": {
        "id": "-tcLTJFMlwHT"
      }
    },
    {
      "cell_type": "markdown",
      "source": [
        "## Decision Tree"
      ],
      "metadata": {
        "id": "zImWsm83xr4V"
      }
    },
    {
      "cell_type": "code",
      "source": [
        "# Decision Tree\n",
        "dt = DecisionTreeClassifier()\n",
        "dt.fit(X_train_under, y_train_under)\n",
        "evaluate(dt)"
      ],
      "metadata": {
        "colab": {
          "base_uri": "https://localhost:8080/"
        },
        "id": "OJec4RYOyfLT",
        "outputId": "e829d2da-06d0-4de5-f6fd-de4ca08f28fe"
      },
      "execution_count": null,
      "outputs": [
        {
          "output_type": "stream",
          "name": "stdout",
          "text": [
            "Accuracy: 1.0\n",
            "------\n",
            "Confusion Matrix:\n",
            "\n",
            "              precision    recall  f1-score   support\n",
            "\n",
            "           0       1.00      1.00      1.00       130\n",
            "           1       1.00      1.00      1.00       120\n",
            "\n",
            "    accuracy                           1.00       250\n",
            "   macro avg       1.00      1.00      1.00       250\n",
            "weighted avg       1.00      1.00      1.00       250\n",
            "\n",
            "------\n",
            "Assuming 1 as positive, we get:\n",
            "\n",
            "True Positive: 120\n",
            "True Negative: 130\n",
            "False Positive: 0\n",
            "False Negative: 0\n",
            "\n",
            "Precision: 1.0\n",
            "Recall: 1.0\n",
            "F1-Score: 1.0\n"
          ]
        }
      ]
    },
    {
      "cell_type": "markdown",
      "source": [
        "Model Decision Tree yang dibuat memiliki nilai akurasi, presisi, recall dan F1-score yang sempurna (1) terhadap dataset yang diambil"
      ],
      "metadata": {
        "id": "48Zz8PuvmnLX"
      }
    },
    {
      "cell_type": "markdown",
      "source": [
        "## Kesimpulan"
      ],
      "metadata": {
        "id": "xqGA8Ek83Owy"
      }
    },
    {
      "cell_type": "markdown",
      "source": [
        "Kesimpulan:\n",
        "*   Siswa laki-laki lebih unggul untuk matematika, sedangkan siswa perempuan lebih unggul untuk membaca dan menulis.\n",
        "*   Kebanyakan siswa dari rata-rata nilai yang ia peroleh dari 3 pelajaran mendapatkan Grade C\n",
        "*   Mayoritas siswa yang ada di lembaga pendidikan dataset gagal dalam ketentuan kelulusan yang telah dibuat\n",
        "*   Secara kesuluruhan dari ketiga pemodelan yang dibuat model yang terbaik ada dua yaitu Logistic Regression dan Decision Tree. Hal itu karena memiliki nilai akurasi, presisi, recall dan F1-score yang sangat baik\n",
        "*   Diperlukan pemahaman lebih lanjut dari penulis terkait dataset maupun machiene learning untuk membuat pemodelan machiene learning yang lebih baik\n",
        "*   Disarankan untuk mengambil dataset yang lebih kompleks, sehingga dapat dimodelkan secara machiene learning dengan lebih baik\n"
      ],
      "metadata": {
        "id": "vagRhMIA3T6L"
      }
    }
  ]
}